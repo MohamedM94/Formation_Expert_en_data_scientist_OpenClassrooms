{
 "cells": [
  {
   "cell_type": "markdown",
   "id": "ead0b9a1",
   "metadata": {},
   "source": [
    "# 1. Importation des données et des librairies"
   ]
  },
  {
   "cell_type": "code",
   "execution_count": 1,
   "id": "8e674c22",
   "metadata": {},
   "outputs": [
    {
     "name": "stderr",
     "output_type": "stream",
     "text": [
      "C:\\Users\\misso\\AppData\\Local\\Temp\\ipykernel_50272\\248354555.py:5: DeprecationWarning: \n",
      "Pyarrow will become a required dependency of pandas in the next major release of pandas (pandas 3.0),\n",
      "(to allow more performant data types, such as the Arrow string type, and better interoperability with other libraries)\n",
      "but was not found to be installed on your system.\n",
      "If this would cause problems for you,\n",
      "please provide us feedback at https://github.com/pandas-dev/pandas/issues/54466\n",
      "        \n",
      "  import pandas as pd\n"
     ]
    },
    {
     "name": "stdout",
     "output_type": "stream",
     "text": [
      "WARNING:tensorflow:From C:\\Users\\misso\\Desktop\\Formation_DS_23_24_MERAH\\2-Projet\\6- Projet 6\\Code\\venvP6\\Lib\\site-packages\\keras\\src\\losses.py:2976: The name tf.losses.sparse_softmax_cross_entropy is deprecated. Please use tf.compat.v1.losses.sparse_softmax_cross_entropy instead.\n",
      "\n"
     ]
    }
   ],
   "source": [
    "# Auteur : Mohamed MERAH\n",
    "# Date: Février 2024\n",
    "# OpenClassrooms 2023-2024\n",
    "\n",
    "import pandas as pd\n",
    "import numpy as np\n",
    "import seaborn as sns\n",
    "import matplotlib.pyplot as plt\n",
    "\n",
    "from matplotlib.image import imread\n",
    "import tensorflow as tf\n",
    "from sklearn.model_selection import train_test_split\n",
    "from tensorflow.keras.preprocessing.image import load_img, img_to_array\n",
    "from tensorflow.keras.applications.vgg16 import preprocess_input\n",
    "from tensorflow.keras.utils import to_categorical\n",
    "from tensorflow.keras.applications.vgg16 import VGG16\n",
    "from tensorflow.keras.applications.vgg16 import preprocess_input\n",
    "from tensorflow.keras.layers import GlobalAveragePooling2D, GlobalAveragePooling1D, Flatten, Dense, Dropout \n",
    "from tensorflow.keras.layers import Rescaling, RandomFlip, RandomRotation, RandomZoom\n",
    "from tensorflow.keras.models import Model, Sequential\n",
    "from tensorflow.keras.callbacks import EarlyStopping, ModelCheckpoint\n",
    "from sklearn import cluster, metrics\n",
    "from tensorflow.keras.preprocessing.image import ImageDataGenerator\n",
    "\n",
    "from plot_keras_history import show_history, plot_history\n",
    "import matplotlib.pyplot as plt\n",
    "\n",
    "import os\n",
    "import numpy as np\n",
    "\n",
    "from tensorflow.keras.preprocessing.image import load_img, img_to_array\n",
    "from tensorflow.keras.applications.vgg16 import preprocess_input\n",
    "from tensorflow.keras.utils import to_categorical\n",
    "from PIL import Image\n",
    "from sklearn.preprocessing import LabelEncoder\n",
    "\n",
    "from tensorflow.keras.models import Sequential\n",
    "from tensorflow.keras.layers import Conv2D, MaxPooling2D, Flatten, Dense\n",
    "from tensorflow.keras.callbacks import EarlyStopping\n",
    "import time\n",
    "from tensorflow.keras.layers import GlobalAveragePooling2D, Dense, Dropout\n",
    "from tensorflow.keras.callbacks import ModelCheckpoint, EarlyStopping\n",
    "import sys\n",
    "if not sys.warnoptions:\n",
    "    import warnings\n",
    "    warnings.simplefilter(\"ignore\")"
   ]
  },
  {
   "cell_type": "markdown",
   "id": "ff88eb2e",
   "metadata": {},
   "source": [
    "# **2. Classification supervisée via les données images**"
   ]
  },
  {
   "cell_type": "code",
   "execution_count": 2,
   "id": "e644a415",
   "metadata": {},
   "outputs": [
    {
     "name": "stdout",
     "output_type": "stream",
     "text": [
      "(1050, 4)\n"
     ]
    },
    {
     "data": {
      "text/html": [
       "<div>\n",
       "<style scoped>\n",
       "    .dataframe tbody tr th:only-of-type {\n",
       "        vertical-align: middle;\n",
       "    }\n",
       "\n",
       "    .dataframe tbody tr th {\n",
       "        vertical-align: top;\n",
       "    }\n",
       "\n",
       "    .dataframe thead th {\n",
       "        text-align: right;\n",
       "    }\n",
       "</style>\n",
       "<table border=\"1\" class=\"dataframe\">\n",
       "  <thead>\n",
       "    <tr style=\"text-align: right;\">\n",
       "      <th></th>\n",
       "      <th>uniq_id</th>\n",
       "      <th>image_path</th>\n",
       "      <th>label_name</th>\n",
       "      <th>label</th>\n",
       "    </tr>\n",
       "  </thead>\n",
       "  <tbody>\n",
       "    <tr>\n",
       "      <th>0</th>\n",
       "      <td>55b85ea15a1536d46b7190ad6fff8ce7</td>\n",
       "      <td>55b85ea15a1536d46b7190ad6fff8ce7.jpg</td>\n",
       "      <td>Home Furnishing</td>\n",
       "      <td>4</td>\n",
       "    </tr>\n",
       "    <tr>\n",
       "      <th>1</th>\n",
       "      <td>7b72c92c2f6c40268628ec5f14c6d590</td>\n",
       "      <td>7b72c92c2f6c40268628ec5f14c6d590.jpg</td>\n",
       "      <td>Baby Care</td>\n",
       "      <td>0</td>\n",
       "    </tr>\n",
       "    <tr>\n",
       "      <th>2</th>\n",
       "      <td>64d5d4a258243731dc7bbb1eef49ad74</td>\n",
       "      <td>64d5d4a258243731dc7bbb1eef49ad74.jpg</td>\n",
       "      <td>Baby Care</td>\n",
       "      <td>0</td>\n",
       "    </tr>\n",
       "    <tr>\n",
       "      <th>3</th>\n",
       "      <td>d4684dcdc759dd9cdf41504698d737d8</td>\n",
       "      <td>d4684dcdc759dd9cdf41504698d737d8.jpg</td>\n",
       "      <td>Home Furnishing</td>\n",
       "      <td>4</td>\n",
       "    </tr>\n",
       "    <tr>\n",
       "      <th>4</th>\n",
       "      <td>6325b6870c54cd47be6ebfbffa620ec7</td>\n",
       "      <td>6325b6870c54cd47be6ebfbffa620ec7.jpg</td>\n",
       "      <td>Home Furnishing</td>\n",
       "      <td>4</td>\n",
       "    </tr>\n",
       "  </tbody>\n",
       "</table>\n",
       "</div>"
      ],
      "text/plain": [
       "                            uniq_id                            image_path  \\\n",
       "0  55b85ea15a1536d46b7190ad6fff8ce7  55b85ea15a1536d46b7190ad6fff8ce7.jpg   \n",
       "1  7b72c92c2f6c40268628ec5f14c6d590  7b72c92c2f6c40268628ec5f14c6d590.jpg   \n",
       "2  64d5d4a258243731dc7bbb1eef49ad74  64d5d4a258243731dc7bbb1eef49ad74.jpg   \n",
       "3  d4684dcdc759dd9cdf41504698d737d8  d4684dcdc759dd9cdf41504698d737d8.jpg   \n",
       "4  6325b6870c54cd47be6ebfbffa620ec7  6325b6870c54cd47be6ebfbffa620ec7.jpg   \n",
       "\n",
       "        label_name  label  \n",
       "0  Home Furnishing      4  \n",
       "1        Baby Care      0  \n",
       "2        Baby Care      0  \n",
       "3  Home Furnishing      4  \n",
       "4  Home Furnishing      4  "
      ]
     },
     "execution_count": 2,
     "metadata": {},
     "output_type": "execute_result"
    }
   ],
   "source": [
    "data = pd.read_csv('C:/Users/misso/Desktop/Formation_DS_23_24_MERAH/2-Projet/6- Projet 6/Code/data_categories_image.csv')\n",
    "data.drop(columns=['Unnamed: 0'], inplace=True)\n",
    "print(data.shape)\n",
    "data.head()"
   ]
  },
  {
   "cell_type": "markdown",
   "id": "681a4897",
   "metadata": {},
   "source": [
    "# 2.1 Identifié la ou les cibles:"
   ]
  },
  {
   "cell_type": "code",
   "execution_count": 3,
   "id": "0fde0d44",
   "metadata": {},
   "outputs": [
    {
     "data": {
      "text/plain": [
       "label_name\n",
       "Home Furnishing               150\n",
       "Baby Care                     150\n",
       "Watches                       150\n",
       "Home Decor & Festive Needs    150\n",
       "Kitchen & Dining              150\n",
       "Beauty and Personal Care      150\n",
       "Computers                     150\n",
       "Name: count, dtype: int64"
      ]
     },
     "execution_count": 3,
     "metadata": {},
     "output_type": "execute_result"
    }
   ],
   "source": [
    "# Check the distribution of the categories in 'label_name'\n",
    "category_distribution = data['label_name'].value_counts()\n",
    "category_distribution"
   ]
  },
  {
   "cell_type": "markdown",
   "id": "93990ce9",
   "metadata": {},
   "source": [
    "# 2.2 Création de X"
   ]
  },
  {
   "cell_type": "code",
   "execution_count": 4,
   "id": "fe2c0377",
   "metadata": {},
   "outputs": [
    {
     "name": "stdout",
     "output_type": "stream",
     "text": [
      "(1050, 224, 224, 3)\n"
     ]
    }
   ],
   "source": [
    "# Augmenter la limite par défaut (ici, par exemple, fixée à une valeur très élevée)\n",
    "Image.MAX_IMAGE_PIXELS = None \n",
    "\n",
    "def image_prep_fct(data):\n",
    "    # Définir le chemin d'accès relatif aux image\n",
    "    base_image_path = 'C:/Users/misso/Desktop/Formation_DS_23_24_MERAH/2-Projet/6- Projet 6/Ressources/Images/'\n",
    "\n",
    "    prepared_images = []\n",
    "    for image_name in data['image_path']:\n",
    "        # Construire le chemin complet de l'image\n",
    "        image_path = os.path.join(base_image_path, image_name)\n",
    "        \n",
    "        # Charger, traiter et prétraiter l'image\n",
    "        img = load_img(image_path, target_size=(224, 224))\n",
    "        img = img_to_array(img)\n",
    "        img = img.reshape((img.shape[0], img.shape[1], img.shape[2]))\n",
    "        img = preprocess_input(img)\n",
    "        prepared_images.append(img)\n",
    "\n",
    "    prepared_images_np = np.array(prepared_images)\n",
    "    return prepared_images_np\n",
    "    \n",
    "images_np = image_prep_fct(data)\n",
    "X = images_np\n",
    "print(X.shape)"
   ]
  },
  {
   "cell_type": "markdown",
   "id": "e8cf8b17",
   "metadata": {},
   "source": [
    "# 2.3 Création de Y"
   ]
  },
  {
   "cell_type": "code",
   "execution_count": 5,
   "id": "09b67c46",
   "metadata": {},
   "outputs": [
    {
     "name": "stdout",
     "output_type": "stream",
     "text": [
      "(1050, 7)\n"
     ]
    }
   ],
   "source": [
    "# Initialisation du LabelEncoder\n",
    "label_encoder = LabelEncoder()\n",
    "\n",
    "# Convertir les labels texte en labels numériques\n",
    "y_encoded = label_encoder.fit_transform(data['label_name'])\n",
    "\n",
    "# Conversion des labels numériques en one-hot encoding\n",
    "y = to_categorical(y_encoded)\n",
    "\n",
    "print(y.shape)"
   ]
  },
  {
   "cell_type": "markdown",
   "id": "90ed65cb",
   "metadata": {},
   "source": [
    "# 2.4 Séparation du jeu de données en jeu d’entraînement, jeu de validation et jeu de test."
   ]
  },
  {
   "cell_type": "markdown",
   "id": "ff313acf",
   "metadata": {},
   "source": [
    " - 70% pour l'entraînement\n",
    " - 15% pour la validation\n",
    " - 15% pour le test\n",
    "\n"
   ]
  },
  {
   "cell_type": "code",
   "execution_count": 6,
   "id": "eea8e2cf",
   "metadata": {},
   "outputs": [],
   "source": [
    "X_temp, X_train, y_temp, y_train = train_test_split(X, y, test_size=0.7, random_state=42, stratify=y)\n",
    "X_val, X_test, y_val, y_test = train_test_split(X_temp, y_temp, test_size=0.5, random_state=42, stratify=y_temp)"
   ]
  },
  {
   "cell_type": "code",
   "execution_count": 7,
   "id": "7fcff018",
   "metadata": {},
   "outputs": [
    {
     "name": "stdout",
     "output_type": "stream",
     "text": [
      "La forme de X_train est : (735, 224, 224, 3)\n",
      "La forme de X_val est : (157, 224, 224, 3)\n",
      "La forme de X_test est : (157, 224, 224, 3)\n"
     ]
    }
   ],
   "source": [
    "print(\"La forme de X_train est :\", X_train.shape)\n",
    "print(\"La forme de X_val est :\", X_val.shape)\n",
    "print(\"La forme de X_test est :\", X_val.shape)"
   ]
  },
  {
   "cell_type": "markdown",
   "id": "279eff1a",
   "metadata": {},
   "source": [
    "# 2.5 Modèles d’apprentissage"
   ]
  },
  {
   "cell_type": "markdown",
   "id": "1df89394",
   "metadata": {},
   "source": [
    "# **2.5.1 Modèle simple (Perceptron multicouche entièrement connecté)**"
   ]
  },
  {
   "cell_type": "markdown",
   "id": "13a6f63f",
   "metadata": {},
   "source": [
    "**Modèle simple (Perceptron multicouche entièrement connecté)**\n",
    "\n",
    "Pile linéaire de couches.\n",
    "\n",
    "**1ère couche de mise à plat (Flatten):**\n",
    "\n",
    "- Convertit les images 2D de forme (224, 224, 3) en un vecteur 1D\n",
    "\n",
    "**Deux couches denses (ou entièrement connectées):**\n",
    " - La première a 128 neurones et utilise la fonction d'activation ReLU.\n",
    " - La deuxième a 64 neurones avec la même fonction d'activation.\n",
    "\n",
    "**La dernière couche est également une couche dense:**\n",
    " - 7 neurones -> 7 classes pour lesquelles le modèle est censé prédire.\n",
    " - La fonction d'activation softmax est utilisée pour convertir les sorties en probabilités pour chaque classe.\n"
   ]
  },
  {
   "cell_type": "code",
   "execution_count": 8,
   "id": "a8a495a1",
   "metadata": {},
   "outputs": [
    {
     "name": "stdout",
     "output_type": "stream",
     "text": [
      "WARNING:tensorflow:From C:\\Users\\misso\\Desktop\\Formation_DS_23_24_MERAH\\2-Projet\\6- Projet 6\\Code\\venvP6\\Lib\\site-packages\\keras\\src\\backend.py:873: The name tf.get_default_graph is deprecated. Please use tf.compat.v1.get_default_graph instead.\n",
      "\n",
      "WARNING:tensorflow:From C:\\Users\\misso\\Desktop\\Formation_DS_23_24_MERAH\\2-Projet\\6- Projet 6\\Code\\venvP6\\Lib\\site-packages\\keras\\src\\optimizers\\__init__.py:309: The name tf.train.Optimizer is deprecated. Please use tf.compat.v1.train.Optimizer instead.\n",
      "\n",
      "Model: \"sequential\"\n",
      "_________________________________________________________________\n",
      " Layer (type)                Output Shape              Param #   \n",
      "=================================================================\n",
      " flatten (Flatten)           (None, 150528)            0         \n",
      "                                                                 \n",
      " dense (Dense)               (None, 128)               19267712  \n",
      "                                                                 \n",
      " dense_1 (Dense)             (None, 64)                8256      \n",
      "                                                                 \n",
      " dense_2 (Dense)             (None, 7)                 455       \n",
      "                                                                 \n",
      "=================================================================\n",
      "Total params: 19276423 (73.53 MB)\n",
      "Trainable params: 19276423 (73.53 MB)\n",
      "Non-trainable params: 0 (0.00 Byte)\n",
      "_________________________________________________________________\n",
      "Epoch 1/50\n",
      "WARNING:tensorflow:From C:\\Users\\misso\\Desktop\\Formation_DS_23_24_MERAH\\2-Projet\\6- Projet 6\\Code\\venvP6\\Lib\\site-packages\\keras\\src\\utils\\tf_utils.py:492: The name tf.ragged.RaggedTensorValue is deprecated. Please use tf.compat.v1.ragged.RaggedTensorValue instead.\n",
      "\n",
      "WARNING:tensorflow:From C:\\Users\\misso\\Desktop\\Formation_DS_23_24_MERAH\\2-Projet\\6- Projet 6\\Code\\venvP6\\Lib\\site-packages\\keras\\src\\engine\\base_layer_utils.py:384: The name tf.executing_eagerly_outside_functions is deprecated. Please use tf.compat.v1.executing_eagerly_outside_functions instead.\n",
      "\n",
      "23/23 [==============================] - 3s 118ms/step - loss: 9828.4424 - accuracy: 0.2286 - val_loss: 5039.3667 - val_accuracy: 0.2611\n",
      "Epoch 2/50\n",
      "23/23 [==============================] - 2s 107ms/step - loss: 2745.0400 - accuracy: 0.3388 - val_loss: 3403.1162 - val_accuracy: 0.3057\n",
      "Epoch 3/50\n",
      "23/23 [==============================] - 2s 109ms/step - loss: 2320.0374 - accuracy: 0.3537 - val_loss: 2441.7158 - val_accuracy: 0.3376\n",
      "Epoch 4/50\n",
      "23/23 [==============================] - 2s 106ms/step - loss: 1871.2512 - accuracy: 0.4068 - val_loss: 1680.7449 - val_accuracy: 0.4268\n",
      "Epoch 5/50\n",
      "23/23 [==============================] - 2s 104ms/step - loss: 1542.0747 - accuracy: 0.4435 - val_loss: 1594.8239 - val_accuracy: 0.3885\n",
      "Epoch 6/50\n",
      "23/23 [==============================] - 2s 104ms/step - loss: 1228.2000 - accuracy: 0.4898 - val_loss: 1814.2269 - val_accuracy: 0.3567\n",
      "Epoch 7/50\n",
      "23/23 [==============================] - 2s 107ms/step - loss: 1537.8401 - accuracy: 0.4639 - val_loss: 1638.6399 - val_accuracy: 0.4204\n",
      "Epoch 8/50\n",
      "23/23 [==============================] - 2s 108ms/step - loss: 1117.6162 - accuracy: 0.5170 - val_loss: 1949.8904 - val_accuracy: 0.3439\n",
      "Epoch 9/50\n",
      "23/23 [==============================] - 2s 104ms/step - loss: 705.4626 - accuracy: 0.5592 - val_loss: 1980.3279 - val_accuracy: 0.4076\n",
      "Epoch 10/50\n",
      "23/23 [==============================] - 2s 105ms/step - loss: 858.9915 - accuracy: 0.5279 - val_loss: 1551.5956 - val_accuracy: 0.4904\n",
      "Epoch 11/50\n",
      "23/23 [==============================] - 2s 103ms/step - loss: 611.8919 - accuracy: 0.6014 - val_loss: 1781.0581 - val_accuracy: 0.4522\n",
      "Epoch 12/50\n",
      "23/23 [==============================] - 2s 99ms/step - loss: 474.0398 - accuracy: 0.6313 - val_loss: 1403.3907 - val_accuracy: 0.4140\n",
      "Epoch 13/50\n",
      "23/23 [==============================] - 2s 104ms/step - loss: 421.6759 - accuracy: 0.6218 - val_loss: 1400.7982 - val_accuracy: 0.4013\n",
      "Epoch 14/50\n",
      "23/23 [==============================] - 2s 104ms/step - loss: 360.6506 - accuracy: 0.6245 - val_loss: 1377.7307 - val_accuracy: 0.3949\n",
      "Epoch 15/50\n",
      "23/23 [==============================] - 2s 104ms/step - loss: 300.3682 - accuracy: 0.6340 - val_loss: 1225.8009 - val_accuracy: 0.4331\n",
      "Epoch 16/50\n",
      "23/23 [==============================] - 2s 103ms/step - loss: 246.7773 - accuracy: 0.6381 - val_loss: 1262.8898 - val_accuracy: 0.4904\n",
      "Epoch 17/50\n",
      "23/23 [==============================] - 2s 101ms/step - loss: 342.4183 - accuracy: 0.6122 - val_loss: 1618.9956 - val_accuracy: 0.4204\n",
      "Epoch 18/50\n",
      "23/23 [==============================] - 2s 101ms/step - loss: 466.6046 - accuracy: 0.6422 - val_loss: 1343.6743 - val_accuracy: 0.4586\n",
      "Epoch 19/50\n",
      "23/23 [==============================] - 2s 101ms/step - loss: 273.9039 - accuracy: 0.6599 - val_loss: 1284.1277 - val_accuracy: 0.4395\n",
      "Epoch 20/50\n",
      "23/23 [==============================] - ETA: 0s - loss: 221.3754 - accuracy: 0.6925Restoring model weights from the end of the best epoch: 15.\n",
      "23/23 [==============================] - 2s 101ms/step - loss: 221.3754 - accuracy: 0.6925 - val_loss: 1567.8811 - val_accuracy: 0.4204\n",
      "Epoch 20: early stopping\n",
      "\n",
      "Temps écoulé pour l'entraînement: 49.07 secondes\n",
      "5/5 [==============================] - 0s 11ms/step - loss: 1396.2108 - accuracy: 0.3924\n",
      "\n",
      "Score du test : test_loss = 1396.2108, test_accuracy = 0.3924\n"
     ]
    }
   ],
   "source": [
    "model_mlp = Sequential()\n",
    "model_mlp.add(Flatten(input_shape=(224, 224, 3))) # Convertir les images 2D en vecteur 1D\n",
    "model_mlp.add(Dense(128, activation='relu'))\n",
    "model_mlp.add(Dense(64, activation='relu'))\n",
    "model_mlp.add(Dense(7, activation='softmax')) # 7 classes, donc 7 neurones en sortie\n",
    "\n",
    "model_mlp.compile(optimizer='rmsprop', loss='categorical_crossentropy', metrics=['accuracy'])\n",
    "\n",
    "model_mlp.summary()\n",
    "\n",
    "# Initialisation de l'arrêt anticipé\n",
    "early_stopping = EarlyStopping(monitor='val_loss', patience=5, verbose=1, restore_best_weights=True)\n",
    "\n",
    "# Enregistrement du temps de début\n",
    "start_time = time.time()\n",
    "\n",
    "model_mlp.fit(X_train, y_train, epochs=50, validation_data=(X_val, y_val), callbacks=[early_stopping])\n",
    "\n",
    "# Enregistrement du temps de fin\n",
    "end_time = time.time()\n",
    "\n",
    "# Calculer et afficher le temps écoulé\n",
    "elapsed_time1 = end_time - start_time\n",
    "print(\"\")\n",
    "print(f\"Temps écoulé pour l'entraînement: {elapsed_time1:.2f} secondes\")\n",
    "\n",
    "# Évaluation du modèle sur l'ensemble de test\n",
    "test_loss1, test_accuracy1 = model_mlp.evaluate(X_test, y_test)\n",
    "print(\"\")\n",
    "print(f\"Score du test : test_loss = {test_loss1:.4f}, test_accuracy = {test_accuracy1:.4f}\")"
   ]
  },
  {
   "cell_type": "markdown",
   "id": "b97404a8",
   "metadata": {},
   "source": [
    "# **Resultat modèle 1 :**"
   ]
  },
  {
   "cell_type": "code",
   "execution_count": 35,
   "id": "ef29e2c1",
   "metadata": {},
   "outputs": [
    {
     "data": {
      "text/html": [
       "<div>\n",
       "<style scoped>\n",
       "    .dataframe tbody tr th:only-of-type {\n",
       "        vertical-align: middle;\n",
       "    }\n",
       "\n",
       "    .dataframe tbody tr th {\n",
       "        vertical-align: top;\n",
       "    }\n",
       "\n",
       "    .dataframe thead th {\n",
       "        text-align: right;\n",
       "    }\n",
       "</style>\n",
       "<table border=\"1\" class=\"dataframe\">\n",
       "  <thead>\n",
       "    <tr style=\"text-align: right;\">\n",
       "      <th></th>\n",
       "      <th>Modèle</th>\n",
       "      <th>Nb_Epochs</th>\n",
       "      <th>test_loss</th>\n",
       "      <th>test_accuracy</th>\n",
       "      <th>temps (s)</th>\n",
       "    </tr>\n",
       "  </thead>\n",
       "  <tbody>\n",
       "    <tr>\n",
       "      <th>0</th>\n",
       "      <td>Perceptron multicouche</td>\n",
       "      <td>20</td>\n",
       "      <td>1396.210815</td>\n",
       "      <td>0.392405</td>\n",
       "      <td>49.074355</td>\n",
       "    </tr>\n",
       "  </tbody>\n",
       "</table>\n",
       "</div>"
      ],
      "text/plain": [
       "                   Modèle  Nb_Epochs    test_loss  test_accuracy  temps (s)\n",
       "0  Perceptron multicouche         20  1396.210815       0.392405  49.074355"
      ]
     },
     "execution_count": 35,
     "metadata": {},
     "output_type": "execute_result"
    }
   ],
   "source": [
    "data1 = {\n",
    "    \"Modèle\": [\"Perceptron multicouche\"],\n",
    "    \"Nb_Epochs\": [20],\n",
    "    \"test_loss\": [test_loss1],\n",
    "    \"test_accuracy\": [test_accuracy1],\n",
    "    \"temps (s)\": [elapsed_time1]\n",
    "}\n",
    "\n",
    "\n",
    "df01 = pd.DataFrame(data1)\n",
    "df01\n",
    "\n"
   ]
  },
  {
   "cell_type": "markdown",
   "id": "e9591309",
   "metadata": {},
   "source": [
    "# **2.5.2 Modèle de complexité médium (CNN = Réseau neuronal convolutif)**"
   ]
  },
  {
   "cell_type": "markdown",
   "id": "58a34f12",
   "metadata": {},
   "source": [
    "**Ajout des couches convolutives:**\n",
    "\n",
    "   - Responsables de l'extraction des caractéristiques (motifs locaux) des images\n",
    "   - 32 filtres, chacun de taille (3x3)\n",
    "   - Activation 'relu' (rectified linear unit) -> Ajoute de la non-linéarité\n",
    "\n",
    "**Couches de pooling:**\n",
    "\n",
    "   - Réduit les dimensions spatiales (largeur, hauteur) de l'entrée.\n",
    "   - Pooling max (2x2) -> ce qui divise par deux les dimensions en largeur et en hauteur.\n",
    "\n",
    "**Applatissement de l'information:**\n",
    "\n",
    "   - Transforme l'ensemble en un environnement 1D\n",
    "\n",
    "**Couches connectés (Dense):**\n",
    "\n",
    "   - 128 -> 7 neurones\n",
    "   - Couche ReLu\n",
    "\n"
   ]
  },
  {
   "cell_type": "code",
   "execution_count": 10,
   "id": "56a52a36",
   "metadata": {},
   "outputs": [
    {
     "name": "stdout",
     "output_type": "stream",
     "text": [
      "WARNING:tensorflow:From C:\\Users\\misso\\Desktop\\Formation_DS_23_24_MERAH\\2-Projet\\6- Projet 6\\Code\\venvP6\\Lib\\site-packages\\keras\\src\\layers\\pooling\\max_pooling2d.py:161: The name tf.nn.max_pool is deprecated. Please use tf.nn.max_pool2d instead.\n",
      "\n",
      "Model: \"sequential_1\"\n",
      "_________________________________________________________________\n",
      " Layer (type)                Output Shape              Param #   \n",
      "=================================================================\n",
      " conv2d (Conv2D)             (None, 222, 222, 32)      896       \n",
      "                                                                 \n",
      " max_pooling2d (MaxPooling2  (None, 111, 111, 32)      0         \n",
      " D)                                                              \n",
      "                                                                 \n",
      " conv2d_1 (Conv2D)           (None, 109, 109, 64)      18496     \n",
      "                                                                 \n",
      " max_pooling2d_1 (MaxPoolin  (None, 54, 54, 64)        0         \n",
      " g2D)                                                            \n",
      "                                                                 \n",
      " conv2d_2 (Conv2D)           (None, 52, 52, 128)       73856     \n",
      "                                                                 \n",
      " max_pooling2d_2 (MaxPoolin  (None, 26, 26, 128)       0         \n",
      " g2D)                                                            \n",
      "                                                                 \n",
      " flatten_1 (Flatten)         (None, 86528)             0         \n",
      "                                                                 \n",
      " dense_3 (Dense)             (None, 128)               11075712  \n",
      "                                                                 \n",
      " dense_4 (Dense)             (None, 7)                 903       \n",
      "                                                                 \n",
      "=================================================================\n",
      "Total params: 11169863 (42.61 MB)\n",
      "Trainable params: 11169863 (42.61 MB)\n",
      "Non-trainable params: 0 (0.00 Byte)\n",
      "_________________________________________________________________\n",
      "Epoch 1/50\n",
      "23/23 [==============================] - 13s 541ms/step - loss: 128.7778 - accuracy: 0.1864 - val_loss: 2.1551 - val_accuracy: 0.1975\n",
      "Epoch 2/50\n",
      "23/23 [==============================] - 12s 528ms/step - loss: 2.7359 - accuracy: 0.3878 - val_loss: 1.8044 - val_accuracy: 0.3503\n",
      "Epoch 3/50\n",
      "23/23 [==============================] - 13s 566ms/step - loss: 1.3193 - accuracy: 0.6136 - val_loss: 1.8869 - val_accuracy: 0.4013\n",
      "Epoch 4/50\n",
      "23/23 [==============================] - 13s 567ms/step - loss: 5.0946 - accuracy: 0.5619 - val_loss: 1.7965 - val_accuracy: 0.3694\n",
      "Epoch 5/50\n",
      "23/23 [==============================] - 12s 545ms/step - loss: 4.0076 - accuracy: 0.6435 - val_loss: 4.0151 - val_accuracy: 0.3631\n",
      "Epoch 6/50\n",
      "23/23 [==============================] - 11s 501ms/step - loss: 1.2513 - accuracy: 0.7510 - val_loss: 2.3342 - val_accuracy: 0.4395\n",
      "Epoch 7/50\n",
      "23/23 [==============================] - 11s 492ms/step - loss: 0.7108 - accuracy: 0.8952 - val_loss: 18.6029 - val_accuracy: 0.2675\n",
      "Epoch 8/50\n",
      "23/23 [==============================] - 11s 483ms/step - loss: 5.1258 - accuracy: 0.7007 - val_loss: 4.6783 - val_accuracy: 0.3822\n",
      "Epoch 9/50\n",
      "23/23 [==============================] - ETA: 0s - loss: 0.1933 - accuracy: 0.9728Restoring model weights from the end of the best epoch: 4.\n",
      "23/23 [==============================] - 11s 495ms/step - loss: 0.1933 - accuracy: 0.9728 - val_loss: 3.2559 - val_accuracy: 0.5032\n",
      "Epoch 9: early stopping\n",
      "\n",
      "Temps écoulé pour l'entraînement: 109.21 secondes\n",
      "5/5 [==============================] - 1s 107ms/step - loss: 1.9375 - accuracy: 0.4114\n",
      "\n",
      "Score du test : test_loss = 1.9375, test_accuracy = 0.4114\n"
     ]
    }
   ],
   "source": [
    "with tf.device('/gpu:0'):\n",
    "    # Création du modèle CNN\n",
    "    model_cnn = Sequential()\n",
    "\n",
    "    # Ajout des couches convolutives\n",
    "    model_cnn.add(Conv2D(32, (3, 3), activation='relu', input_shape=(224, 224, 3)))\n",
    "    model_cnn.add(MaxPooling2D((2, 2)))\n",
    "\n",
    "    model_cnn.add(Conv2D(64, (3, 3), activation='relu'))\n",
    "    model_cnn.add(MaxPooling2D((2, 2)))\n",
    "\n",
    "    model_cnn.add(Conv2D(128, (3, 3), activation='relu'))\n",
    "    model_cnn.add(MaxPooling2D((2, 2)))\n",
    "\n",
    "    # Ajout des couches entièrement connectées\n",
    "    model_cnn.add(Flatten())\n",
    "    model_cnn.add(Dense(128, activation='relu'))\n",
    "    model_cnn.add(Dense(7, activation='softmax')) # 7 classes, donc 7 neurones en sortie\n",
    "\n",
    "    # Compilation du modèle\n",
    "    model_cnn.compile(optimizer='rmsprop', loss='categorical_crossentropy', metrics=['accuracy'])\n",
    "    model_cnn.summary()\n",
    "\n",
    "    # Initialisation de l'arrêt anticipé\n",
    "    early_stopping = EarlyStopping(monitor='val_loss', patience=5, verbose=1, restore_best_weights=True)\n",
    "\n",
    "    # Enregistrement du temps de début\n",
    "    start_time = time.time()\n",
    "\n",
    "    model_cnn.fit(X_train, y_train, epochs=50, validation_data=(X_val, y_val), callbacks=[early_stopping])\n",
    "\n",
    "    # Enregistrement du temps de fin\n",
    "    end_time = time.time()\n",
    "\n",
    "    # Calculer et afficher le temps écoulé\n",
    "    elapsed_time2 = end_time - start_time\n",
    "    print(\"\")\n",
    "    print(f\"Temps écoulé pour l'entraînement: {elapsed_time2:.2f} secondes\")\n",
    "\n",
    "    # Évaluation du modèle sur l'ensemble de test\n",
    "    test_loss2, test_accuracy2 = model_cnn.evaluate(X_test, y_test)\n",
    "    print(\"\")\n",
    "    print(f\"Score du test : test_loss = {test_loss2:.4f}, test_accuracy = {test_accuracy2:.4f}\")"
   ]
  },
  {
   "cell_type": "markdown",
   "id": "f6d132bc",
   "metadata": {},
   "source": [
    "# **Resultat modèle 2 :**"
   ]
  },
  {
   "cell_type": "code",
   "execution_count": 34,
   "id": "0d41d44f",
   "metadata": {},
   "outputs": [
    {
     "data": {
      "text/html": [
       "<div>\n",
       "<style scoped>\n",
       "    .dataframe tbody tr th:only-of-type {\n",
       "        vertical-align: middle;\n",
       "    }\n",
       "\n",
       "    .dataframe tbody tr th {\n",
       "        vertical-align: top;\n",
       "    }\n",
       "\n",
       "    .dataframe thead th {\n",
       "        text-align: right;\n",
       "    }\n",
       "</style>\n",
       "<table border=\"1\" class=\"dataframe\">\n",
       "  <thead>\n",
       "    <tr style=\"text-align: right;\">\n",
       "      <th></th>\n",
       "      <th>Modèle</th>\n",
       "      <th>Nb_Epochs</th>\n",
       "      <th>test_loss</th>\n",
       "      <th>test_accuracy</th>\n",
       "      <th>temps (s)</th>\n",
       "    </tr>\n",
       "  </thead>\n",
       "  <tbody>\n",
       "    <tr>\n",
       "      <th>0</th>\n",
       "      <td>Modèle simple CNN</td>\n",
       "      <td>9</td>\n",
       "      <td>1.937485</td>\n",
       "      <td>0.411392</td>\n",
       "      <td>109.21276</td>\n",
       "    </tr>\n",
       "  </tbody>\n",
       "</table>\n",
       "</div>"
      ],
      "text/plain": [
       "              Modèle  Nb_Epochs  test_loss  test_accuracy  temps (s)\n",
       "0  Modèle simple CNN          9   1.937485       0.411392  109.21276"
      ]
     },
     "execution_count": 34,
     "metadata": {},
     "output_type": "execute_result"
    }
   ],
   "source": [
    "data2 = {\n",
    "    \"Modèle\": [\"Modèle simple CNN\"],\n",
    "    \"Nb_Epochs\": [9],\n",
    "    \"test_loss\": [test_loss2],\n",
    "    \"test_accuracy\": [test_accuracy2],\n",
    "    \"temps (s)\": [elapsed_time2]\n",
    "}\n",
    "\n",
    "\n",
    "df02 = pd.DataFrame(data2)\n",
    "df02\n"
   ]
  },
  {
   "cell_type": "markdown",
   "id": "d676dd08",
   "metadata": {},
   "source": [
    "# **2.5.3 Modèle de forte complexité**"
   ]
  },
  {
   "cell_type": "markdown",
   "id": "7b09715d",
   "metadata": {},
   "source": [
    "On va utiliser le VGG16 (pré-entrainé- technique de Transfer Learning)\n",
    "\n",
    "**Importation d'un modèle préentrainé:**\n",
    "\n",
    "   - On importe le modèle VGG16 qui est un modèle de réseau de neurones convolutif pré-entraîné sur la base de données ImageNet.\n",
    "    - On ne prend pas les couches fully connected du haut (include_top=False) car on veut ajouter nos propres couches pour la classification.\n",
    "   - Le modèle attend des images de taille 224x224 avec 3 canaux (RGB).\n",
    "\n",
    "**Rendre les couches non entraînables:**\n",
    "\n",
    "   - Lors de la phase d'entraînement, les poids de ces couches ne seront pas mis à jour\n",
    "   - Ceci est typique du transfert learning\n",
    "        - L'idée est de capitaliser sur les caractéristiques apprises par le modèle sur une autre tâche et de ne pas perturber ces caractéristiques.\n",
    "\n",
    "**Ajout de nouvelles couches:**\n",
    "\n",
    "   - GlobalAveragePooling2D(): Couche de mise en commun globale pour réduire la dimensionnalité de l'entrée.\n",
    "   - Dense(256, activation='relu'): Couche dense (ou fully connected) avec 256 neurones et une fonction d'activation ReLU.\n",
    "   - Dropout(0.5): Couche d'abandon pour éviter le surapprentissage. Elle désactive aléatoirement 50% des neurones lors de l'entraînement.\n",
    "   - Dense(7, activation='softmax'): La dernière couche dense avec 7 neurones (7 classes à prédire) et une activation softmax pour obtenir des probabilités de classification.\n",
    "\n",
    "**Choix de l'optimisation:**\n",
    "\n",
    "   - categorical_crossentropy: Fonction de perte couramment utilisée pour les problèmes de classification multiclasse.\n",
    "        - Utilisée lorsque les étiquettes sont one-hot encoded\n",
    "   - optimizer='rmsprop': Variante du gradient descent, spécialement conçue pour éviter certains de ses problèmes, comme la convergence lente dans certains cas\n",
    "\n"
   ]
  },
  {
   "cell_type": "code",
   "execution_count": 12,
   "id": "c9193e6e",
   "metadata": {},
   "outputs": [],
   "source": [
    "def create_model_fct() :\n",
    "    # Récupération modèle pré-entraîné\n",
    "    model0 = VGG16(include_top=False, weights=\"imagenet\", input_shape=(224, 224, 3))\n",
    "\n",
    "    # Layer non entraînables = on garde les poids du modèle pré-entraîné\n",
    "    for layer in model0.layers:\n",
    "        layer.trainable = False\n",
    "\n",
    "    # Récupérer la sortie de ce réseau\n",
    "    x = model0.output\n",
    "    # Compléter le modèle\n",
    "    x = GlobalAveragePooling2D()(x)\n",
    "    x = Dense(256, activation='relu')(x)\n",
    "    x = Dropout(0.5)(x)\n",
    "    predictions = Dense(7, activation='softmax')(x)\n",
    "\n",
    "    # Définir le nouveau modèle\n",
    "    model = Model(inputs=model0.input, outputs=predictions)\n",
    "    # compilation du modèle \n",
    "    model.compile(loss=\"categorical_crossentropy\", optimizer='rmsprop', metrics=[\"accuracy\"])\n",
    "\n",
    "    print(model.summary())\n",
    "    \n",
    "    return model"
   ]
  },
  {
   "cell_type": "markdown",
   "id": "a381b0a6",
   "metadata": {},
   "source": [
    "# 2.5.3.1 Évaluer la performance des modèles d’apprentissage profond"
   ]
  },
  {
   "cell_type": "markdown",
   "id": "52fd6761",
   "metadata": {},
   "source": [
    "**Le choix de la métrique d’évaluation :**\n",
    "\n",
    "- **accuracy:** Mesure la proportion de prédictions correctes par rapport à l'ensemble total des prédictions\n",
    "    Très bien adaptée lorsqu'on a une distribution parfaitement équilibrée des catégories\n",
    "    Fonction de perte -> \"categorical_crossentropy\"!\n",
    "        Mesure l'écart entre les probabilités prédites et les vraies étiquettes\n",
    "        Bien adaptée aux tâches de classification multiclasse comme la nôtre.\n",
    "        Offre une indication précise des performances du modèle pendant la phase d'entraînement\n",
    "\n",
    "- **val_:** Car on souhaite à ce que le modèle soit aussi performant sur de nouvelles données\n",
    "\n",
    "\n",
    "\n"
   ]
  },
  {
   "cell_type": "markdown",
   "id": "a8032391",
   "metadata": {},
   "source": [
    "# 2.5.3.1.1 Optimiser le nombre d'Epochs (hyperparamètres)"
   ]
  },
  {
   "cell_type": "markdown",
   "id": "2e9b5806",
   "metadata": {},
   "source": [
    "# A) EarlyStopping (val_accuracy)"
   ]
  },
  {
   "cell_type": "code",
   "execution_count": 13,
   "id": "ec2e5278",
   "metadata": {},
   "outputs": [
    {
     "name": "stdout",
     "output_type": "stream",
     "text": [
      "Model: \"model\"\n",
      "_________________________________________________________________\n",
      " Layer (type)                Output Shape              Param #   \n",
      "=================================================================\n",
      " input_1 (InputLayer)        [(None, 224, 224, 3)]     0         \n",
      "                                                                 \n",
      " block1_conv1 (Conv2D)       (None, 224, 224, 64)      1792      \n",
      "                                                                 \n",
      " block1_conv2 (Conv2D)       (None, 224, 224, 64)      36928     \n",
      "                                                                 \n",
      " block1_pool (MaxPooling2D)  (None, 112, 112, 64)      0         \n",
      "                                                                 \n",
      " block2_conv1 (Conv2D)       (None, 112, 112, 128)     73856     \n",
      "                                                                 \n",
      " block2_conv2 (Conv2D)       (None, 112, 112, 128)     147584    \n",
      "                                                                 \n",
      " block2_pool (MaxPooling2D)  (None, 56, 56, 128)       0         \n",
      "                                                                 \n",
      " block3_conv1 (Conv2D)       (None, 56, 56, 256)       295168    \n",
      "                                                                 \n",
      " block3_conv2 (Conv2D)       (None, 56, 56, 256)       590080    \n",
      "                                                                 \n",
      " block3_conv3 (Conv2D)       (None, 56, 56, 256)       590080    \n",
      "                                                                 \n",
      " block3_pool (MaxPooling2D)  (None, 28, 28, 256)       0         \n",
      "                                                                 \n",
      " block4_conv1 (Conv2D)       (None, 28, 28, 512)       1180160   \n",
      "                                                                 \n",
      " block4_conv2 (Conv2D)       (None, 28, 28, 512)       2359808   \n",
      "                                                                 \n",
      " block4_conv3 (Conv2D)       (None, 28, 28, 512)       2359808   \n",
      "                                                                 \n",
      " block4_pool (MaxPooling2D)  (None, 14, 14, 512)       0         \n",
      "                                                                 \n",
      " block5_conv1 (Conv2D)       (None, 14, 14, 512)       2359808   \n",
      "                                                                 \n",
      " block5_conv2 (Conv2D)       (None, 14, 14, 512)       2359808   \n",
      "                                                                 \n",
      " block5_conv3 (Conv2D)       (None, 14, 14, 512)       2359808   \n",
      "                                                                 \n",
      " block5_pool (MaxPooling2D)  (None, 7, 7, 512)         0         \n",
      "                                                                 \n",
      " global_average_pooling2d (  (None, 512)               0         \n",
      " GlobalAveragePooling2D)                                         \n",
      "                                                                 \n",
      " dense_5 (Dense)             (None, 256)               131328    \n",
      "                                                                 \n",
      " dropout (Dropout)           (None, 256)               0         \n",
      "                                                                 \n",
      " dense_6 (Dense)             (None, 7)                 1799      \n",
      "                                                                 \n",
      "=================================================================\n",
      "Total params: 14847815 (56.64 MB)\n",
      "Trainable params: 133127 (520.03 KB)\n",
      "Non-trainable params: 14714688 (56.13 MB)\n",
      "_________________________________________________________________\n",
      "None\n"
     ]
    }
   ],
   "source": [
    "# Création du modèle\n",
    "with tf.device('/gpu:0'): \n",
    "    model1 = create_model_fct()\n",
    "\n",
    "# Création du callback\n",
    "model1_save_path1 = \"./model1_best_weights.h5\"\n",
    "checkpoint = ModelCheckpoint(model1_save_path1, monitor='val_accuracy', verbose=1, save_best_only=True, mode='max')\n",
    "es = EarlyStopping(monitor='val_accuracy', mode='max', verbose=1, patience=5)\n",
    "callbacks_list = [checkpoint, es]"
   ]
  },
  {
   "cell_type": "code",
   "execution_count": 14,
   "id": "9fd463a3",
   "metadata": {},
   "outputs": [
    {
     "name": "stdout",
     "output_type": "stream",
     "text": [
      "Epoch 1/50\n",
      "12/12 [==============================] - ETA: 0s - loss: 5.7936 - accuracy: 0.4422\n",
      "Epoch 1: val_accuracy improved from -inf to 0.76433, saving model to .\\model1_best_weights.h5\n",
      "12/12 [==============================] - 63s 5s/step - loss: 5.7936 - accuracy: 0.4422 - val_loss: 1.1462 - val_accuracy: 0.7643\n",
      "Epoch 2/50\n",
      "12/12 [==============================] - ETA: 0s - loss: 1.9232 - accuracy: 0.6884\n",
      "Epoch 2: val_accuracy improved from 0.76433 to 0.82803, saving model to .\\model1_best_weights.h5\n",
      "12/12 [==============================] - 64s 5s/step - loss: 1.9232 - accuracy: 0.6884 - val_loss: 0.8225 - val_accuracy: 0.8280\n",
      "Epoch 3/50\n",
      "12/12 [==============================] - ETA: 0s - loss: 1.2555 - accuracy: 0.7565\n",
      "Epoch 3: val_accuracy did not improve from 0.82803\n",
      "12/12 [==============================] - 65s 5s/step - loss: 1.2555 - accuracy: 0.7565 - val_loss: 0.7584 - val_accuracy: 0.8217\n",
      "Epoch 4/50\n",
      "12/12 [==============================] - ETA: 0s - loss: 0.9400 - accuracy: 0.8095\n",
      "Epoch 4: val_accuracy improved from 0.82803 to 0.84713, saving model to .\\model1_best_weights.h5\n",
      "12/12 [==============================] - 64s 5s/step - loss: 0.9400 - accuracy: 0.8095 - val_loss: 0.7115 - val_accuracy: 0.8471\n",
      "Epoch 5/50\n",
      "12/12 [==============================] - ETA: 0s - loss: 0.7840 - accuracy: 0.8136\n",
      "Epoch 5: val_accuracy did not improve from 0.84713\n",
      "12/12 [==============================] - 64s 5s/step - loss: 0.7840 - accuracy: 0.8136 - val_loss: 0.8014 - val_accuracy: 0.8408\n",
      "Epoch 6/50\n",
      "12/12 [==============================] - ETA: 0s - loss: 0.4991 - accuracy: 0.8803\n",
      "Epoch 6: val_accuracy did not improve from 0.84713\n",
      "12/12 [==============================] - 65s 5s/step - loss: 0.4991 - accuracy: 0.8803 - val_loss: 0.6954 - val_accuracy: 0.8153\n",
      "Epoch 7/50\n",
      "12/12 [==============================] - ETA: 0s - loss: 0.4188 - accuracy: 0.8762  \n",
      "Epoch 7: val_accuracy improved from 0.84713 to 0.85350, saving model to .\\model1_best_weights.h5\n",
      "12/12 [==============================] - 4304s 391s/step - loss: 0.4188 - accuracy: 0.8762 - val_loss: 0.6593 - val_accuracy: 0.8535\n",
      "Epoch 8/50\n",
      "12/12 [==============================] - ETA: 0s - loss: 0.3487 - accuracy: 0.8966\n",
      "Epoch 8: val_accuracy did not improve from 0.85350\n",
      "12/12 [==============================] - 66s 5s/step - loss: 0.3487 - accuracy: 0.8966 - val_loss: 0.6717 - val_accuracy: 0.8471\n",
      "Epoch 9/50\n",
      "12/12 [==============================] - ETA: 0s - loss: 0.2487 - accuracy: 0.9184\n",
      "Epoch 9: val_accuracy did not improve from 0.85350\n",
      "12/12 [==============================] - 64s 5s/step - loss: 0.2487 - accuracy: 0.9184 - val_loss: 0.7487 - val_accuracy: 0.8471\n",
      "Epoch 10/50\n",
      "12/12 [==============================] - ETA: 0s - loss: 0.2388 - accuracy: 0.9224\n",
      "Epoch 10: val_accuracy did not improve from 0.85350\n",
      "12/12 [==============================] - 64s 5s/step - loss: 0.2388 - accuracy: 0.9224 - val_loss: 0.6747 - val_accuracy: 0.8471\n",
      "Epoch 11/50\n",
      "12/12 [==============================] - ETA: 0s - loss: 0.1470 - accuracy: 0.9456\n",
      "Epoch 11: val_accuracy improved from 0.85350 to 0.85987, saving model to .\\model1_best_weights.h5\n",
      "12/12 [==============================] - 60s 5s/step - loss: 0.1470 - accuracy: 0.9456 - val_loss: 0.6146 - val_accuracy: 0.8599\n",
      "Epoch 12/50\n",
      "12/12 [==============================] - ETA: 0s - loss: 0.1630 - accuracy: 0.9442\n",
      "Epoch 12: val_accuracy improved from 0.85987 to 0.86624, saving model to .\\model1_best_weights.h5\n",
      "12/12 [==============================] - 61s 5s/step - loss: 0.1630 - accuracy: 0.9442 - val_loss: 0.6284 - val_accuracy: 0.8662\n",
      "Epoch 13/50\n",
      "12/12 [==============================] - ETA: 0s - loss: 0.1539 - accuracy: 0.9456\n",
      "Epoch 13: val_accuracy did not improve from 0.86624\n",
      "12/12 [==============================] - 62s 5s/step - loss: 0.1539 - accuracy: 0.9456 - val_loss: 0.6906 - val_accuracy: 0.8280\n",
      "Epoch 14/50\n",
      "12/12 [==============================] - ETA: 0s - loss: 0.0956 - accuracy: 0.9633\n",
      "Epoch 14: val_accuracy did not improve from 0.86624\n",
      "12/12 [==============================] - 62s 5s/step - loss: 0.0956 - accuracy: 0.9633 - val_loss: 0.6770 - val_accuracy: 0.8662\n",
      "Epoch 15/50\n",
      "12/12 [==============================] - ETA: 0s - loss: 0.0822 - accuracy: 0.9660\n",
      "Epoch 15: val_accuracy did not improve from 0.86624\n",
      "12/12 [==============================] - 62s 5s/step - loss: 0.0822 - accuracy: 0.9660 - val_loss: 0.6570 - val_accuracy: 0.8662\n",
      "Epoch 16/50\n",
      "12/12 [==============================] - ETA: 0s - loss: 0.1057 - accuracy: 0.9605\n",
      "Epoch 16: val_accuracy did not improve from 0.86624\n",
      "12/12 [==============================] - 52s 4s/step - loss: 0.1057 - accuracy: 0.9605 - val_loss: 0.7607 - val_accuracy: 0.8535\n",
      "Epoch 17/50\n",
      "12/12 [==============================] - ETA: 0s - loss: 0.0685 - accuracy: 0.9755\n",
      "Epoch 17: val_accuracy did not improve from 0.86624\n",
      "12/12 [==============================] - 59s 5s/step - loss: 0.0685 - accuracy: 0.9755 - val_loss: 0.8105 - val_accuracy: 0.8471\n",
      "Epoch 17: early stopping\n",
      "Le temps d'entraînement est de: 5302.46 secondes.\n"
     ]
    }
   ],
   "source": [
    "# Enregistrez l'heure de début\n",
    "start_time = time.time()\n",
    "\n",
    "# Entraîner sur les données d'entraînement (X_train, y_train)\n",
    "with tf.device('/gpu:0'): \n",
    "    history1 = model1.fit(X_train, y_train, epochs=50, batch_size=64, \n",
    "                       callbacks=callbacks_list, validation_data=(X_val, y_val), verbose=1)\n",
    "\n",
    "# Enregistrez l'heure de fin\n",
    "end_time = time.time()\n",
    "\n",
    "# Calculez et affichez la durée\n",
    "duration = end_time - start_time\n",
    "print(f\"Le temps d'entraînement est de: {duration:.2f} secondes.\")"
   ]
  },
  {
   "cell_type": "code",
   "execution_count": 15,
   "id": "faaf0101",
   "metadata": {},
   "outputs": [
    {
     "data": {
      "image/png": "[encoded data removed]",
      "text/plain": [
       "<Figure size 1000x500 with 2 Axes>"
      ]
     },
     "metadata": {},
     "output_type": "display_data"
    }
   ],
   "source": [
    "show_history(history1)\n",
    "plot_history(history1, path=\"standard.png\")\n",
    "plt.close()"
   ]
  },
  {
   "cell_type": "code",
   "execution_count": 16,
   "id": "a376ff07",
   "metadata": {},
   "outputs": [
    {
     "name": "stdout",
     "output_type": "stream",
     "text": [
      "Validation Accuracy :  0.8662\n",
      "Test Accuracy       :  0.7848\n"
     ]
    }
   ],
   "source": [
    "#Score de l'epoch optimal\n",
    "\n",
    "model1.load_weights(model1_save_path1)\n",
    "\n",
    "loss, accuracy = model1.evaluate(X_val, y_val, verbose=False)\n",
    "print(\"Validation Accuracy :  {:.4f}\".format(accuracy))\n",
    "\n",
    "loss, accuracy = model1.evaluate(X_test, y_test, verbose=False)\n",
    "print(\"Test Accuracy       :  {:.4f}\".format(accuracy))"
   ]
  },
  {
   "cell_type": "markdown",
   "id": "b3be0d9c",
   "metadata": {},
   "source": [
    "# B) EarlyStopping (val_loss)"
   ]
  },
  {
   "cell_type": "code",
   "execution_count": 17,
   "id": "64d58750",
   "metadata": {},
   "outputs": [
    {
     "name": "stdout",
     "output_type": "stream",
     "text": [
      "Model: \"model_1\"\n",
      "_________________________________________________________________\n",
      " Layer (type)                Output Shape              Param #   \n",
      "=================================================================\n",
      " input_2 (InputLayer)        [(None, 224, 224, 3)]     0         \n",
      "                                                                 \n",
      " block1_conv1 (Conv2D)       (None, 224, 224, 64)      1792      \n",
      "                                                                 \n",
      " block1_conv2 (Conv2D)       (None, 224, 224, 64)      36928     \n",
      "                                                                 \n",
      " block1_pool (MaxPooling2D)  (None, 112, 112, 64)      0         \n",
      "                                                                 \n",
      " block2_conv1 (Conv2D)       (None, 112, 112, 128)     73856     \n",
      "                                                                 \n",
      " block2_conv2 (Conv2D)       (None, 112, 112, 128)     147584    \n",
      "                                                                 \n",
      " block2_pool (MaxPooling2D)  (None, 56, 56, 128)       0         \n",
      "                                                                 \n",
      " block3_conv1 (Conv2D)       (None, 56, 56, 256)       295168    \n",
      "                                                                 \n",
      " block3_conv2 (Conv2D)       (None, 56, 56, 256)       590080    \n",
      "                                                                 \n",
      " block3_conv3 (Conv2D)       (None, 56, 56, 256)       590080    \n",
      "                                                                 \n",
      " block3_pool (MaxPooling2D)  (None, 28, 28, 256)       0         \n",
      "                                                                 \n",
      " block4_conv1 (Conv2D)       (None, 28, 28, 512)       1180160   \n",
      "                                                                 \n",
      " block4_conv2 (Conv2D)       (None, 28, 28, 512)       2359808   \n",
      "                                                                 \n",
      " block4_conv3 (Conv2D)       (None, 28, 28, 512)       2359808   \n",
      "                                                                 \n",
      " block4_pool (MaxPooling2D)  (None, 14, 14, 512)       0         \n",
      "                                                                 \n",
      " block5_conv1 (Conv2D)       (None, 14, 14, 512)       2359808   \n",
      "                                                                 \n",
      " block5_conv2 (Conv2D)       (None, 14, 14, 512)       2359808   \n",
      "                                                                 \n",
      " block5_conv3 (Conv2D)       (None, 14, 14, 512)       2359808   \n",
      "                                                                 \n",
      " block5_pool (MaxPooling2D)  (None, 7, 7, 512)         0         \n",
      "                                                                 \n",
      " global_average_pooling2d_1  (None, 512)               0         \n",
      "  (GlobalAveragePooling2D)                                       \n",
      "                                                                 \n",
      " dense_7 (Dense)             (None, 256)               131328    \n",
      "                                                                 \n",
      " dropout_1 (Dropout)         (None, 256)               0         \n",
      "                                                                 \n",
      " dense_8 (Dense)             (None, 7)                 1799      \n",
      "                                                                 \n",
      "=================================================================\n",
      "Total params: 14847815 (56.64 MB)\n",
      "Trainable params: 133127 (520.03 KB)\n",
      "Non-trainable params: 14714688 (56.13 MB)\n",
      "_________________________________________________________________\n",
      "None\n"
     ]
    }
   ],
   "source": [
    "# Création du modèle\n",
    "with tf.device('/gpu:0'): \n",
    "    model1 = create_model_fct()\n",
    "\n",
    "# Création du callback\n",
    "model1_save_path1 = \"./model1_best_weights.h5\"\n",
    "checkpoint = ModelCheckpoint(model1_save_path1, monitor='val_loss', verbose=1, save_best_only=True, mode='min')\n",
    "es = EarlyStopping(monitor='val_loss', mode='min', verbose=1, patience=5)\n",
    "callbacks_list = [checkpoint, es]"
   ]
  },
  {
   "cell_type": "code",
   "execution_count": 18,
   "id": "7c3985d4",
   "metadata": {},
   "outputs": [
    {
     "name": "stdout",
     "output_type": "stream",
     "text": [
      "Epoch 1/50\n",
      "12/12 [==============================] - ETA: 0s - loss: 4.9766 - accuracy: 0.4612\n",
      "Epoch 1: val_loss improved from inf to 1.14704, saving model to .\\model1_best_weights.h5\n",
      "12/12 [==============================] - 66s 6s/step - loss: 4.9766 - accuracy: 0.4612 - val_loss: 1.1470 - val_accuracy: 0.7834\n",
      "Epoch 2/50\n",
      "12/12 [==============================] - ETA: 0s - loss: 1.7017 - accuracy: 0.6952\n",
      "Epoch 2: val_loss improved from 1.14704 to 0.85565, saving model to .\\model1_best_weights.h5\n",
      "12/12 [==============================] - 65s 5s/step - loss: 1.7017 - accuracy: 0.6952 - val_loss: 0.8556 - val_accuracy: 0.8089\n",
      "Epoch 3/50\n",
      "12/12 [==============================] - ETA: 0s - loss: 1.1349 - accuracy: 0.7660\n",
      "Epoch 3: val_loss improved from 0.85565 to 0.79963, saving model to .\\model1_best_weights.h5\n",
      "12/12 [==============================] - 64s 5s/step - loss: 1.1349 - accuracy: 0.7660 - val_loss: 0.7996 - val_accuracy: 0.7962\n",
      "Epoch 4/50\n",
      "12/12 [==============================] - ETA: 0s - loss: 0.9296 - accuracy: 0.8136\n",
      "Epoch 4: val_loss improved from 0.79963 to 0.71960, saving model to .\\model1_best_weights.h5\n",
      "12/12 [==============================] - 62s 5s/step - loss: 0.9296 - accuracy: 0.8136 - val_loss: 0.7196 - val_accuracy: 0.8153\n",
      "Epoch 5/50\n",
      "12/12 [==============================] - ETA: 0s - loss: 0.5640 - accuracy: 0.8408\n",
      "Epoch 5: val_loss did not improve from 0.71960\n",
      "12/12 [==============================] - 63s 5s/step - loss: 0.5640 - accuracy: 0.8408 - val_loss: 0.7410 - val_accuracy: 0.8344\n",
      "Epoch 6/50\n",
      "12/12 [==============================] - ETA: 0s - loss: 0.4572 - accuracy: 0.8599\n",
      "Epoch 6: val_loss did not improve from 0.71960\n",
      "12/12 [==============================] - 61s 5s/step - loss: 0.4572 - accuracy: 0.8599 - val_loss: 0.7505 - val_accuracy: 0.8408\n",
      "Epoch 7/50\n",
      "12/12 [==============================] - ETA: 0s - loss: 0.3499 - accuracy: 0.8980\n",
      "Epoch 7: val_loss did not improve from 0.71960\n",
      "12/12 [==============================] - 61s 5s/step - loss: 0.3499 - accuracy: 0.8980 - val_loss: 0.7227 - val_accuracy: 0.8344\n",
      "Epoch 8/50\n",
      "12/12 [==============================] - ETA: 0s - loss: 0.2862 - accuracy: 0.9088\n",
      "Epoch 8: val_loss did not improve from 0.71960\n",
      "12/12 [==============================] - 62s 5s/step - loss: 0.2862 - accuracy: 0.9088 - val_loss: 0.7240 - val_accuracy: 0.8471\n",
      "Epoch 9/50\n",
      "12/12 [==============================] - ETA: 0s - loss: 0.1948 - accuracy: 0.9361\n",
      "Epoch 9: val_loss improved from 0.71960 to 0.68664, saving model to .\\model1_best_weights.h5\n",
      "12/12 [==============================] - 63s 5s/step - loss: 0.1948 - accuracy: 0.9361 - val_loss: 0.6866 - val_accuracy: 0.8344\n",
      "Epoch 10/50\n",
      "12/12 [==============================] - ETA: 0s - loss: 0.1979 - accuracy: 0.9347\n",
      "Epoch 10: val_loss did not improve from 0.68664\n",
      "12/12 [==============================] - 63s 5s/step - loss: 0.1979 - accuracy: 0.9347 - val_loss: 0.7454 - val_accuracy: 0.8408\n",
      "Epoch 11/50\n",
      "12/12 [==============================] - ETA: 0s - loss: 0.1686 - accuracy: 0.9442\n",
      "Epoch 11: val_loss did not improve from 0.68664\n",
      "12/12 [==============================] - 64s 5s/step - loss: 0.1686 - accuracy: 0.9442 - val_loss: 0.7267 - val_accuracy: 0.8471\n",
      "Epoch 12/50\n",
      "12/12 [==============================] - ETA: 0s - loss: 0.1115 - accuracy: 0.9633\n",
      "Epoch 12: val_loss improved from 0.68664 to 0.66460, saving model to .\\model1_best_weights.h5\n",
      "12/12 [==============================] - 63s 5s/step - loss: 0.1115 - accuracy: 0.9633 - val_loss: 0.6646 - val_accuracy: 0.8662\n",
      "Epoch 13/50\n",
      "12/12 [==============================] - ETA: 0s - loss: 0.1449 - accuracy: 0.9578\n",
      "Epoch 13: val_loss did not improve from 0.66460\n",
      "12/12 [==============================] - 64s 5s/step - loss: 0.1449 - accuracy: 0.9578 - val_loss: 0.6830 - val_accuracy: 0.8535\n",
      "Epoch 14/50\n",
      "12/12 [==============================] - ETA: 0s - loss: 0.1299 - accuracy: 0.9633\n",
      "Epoch 14: val_loss did not improve from 0.66460\n",
      "12/12 [==============================] - 66s 6s/step - loss: 0.1299 - accuracy: 0.9633 - val_loss: 0.7452 - val_accuracy: 0.8535\n",
      "Epoch 15/50\n",
      "12/12 [==============================] - ETA: 0s - loss: 0.0841 - accuracy: 0.9633\n",
      "Epoch 15: val_loss did not improve from 0.66460\n",
      "12/12 [==============================] - 61s 5s/step - loss: 0.0841 - accuracy: 0.9633 - val_loss: 0.7632 - val_accuracy: 0.8535\n",
      "Epoch 16/50\n",
      "12/12 [==============================] - ETA: 0s - loss: 0.0916 - accuracy: 0.9714\n",
      "Epoch 16: val_loss did not improve from 0.66460\n",
      "12/12 [==============================] - 62s 5s/step - loss: 0.0916 - accuracy: 0.9714 - val_loss: 0.8568 - val_accuracy: 0.8280\n",
      "Epoch 17/50\n",
      "12/12 [==============================] - ETA: 0s - loss: 0.0646 - accuracy: 0.9796\n",
      "Epoch 17: val_loss did not improve from 0.66460\n",
      "12/12 [==============================] - 61s 5s/step - loss: 0.0646 - accuracy: 0.9796 - val_loss: 0.7211 - val_accuracy: 0.8535\n",
      "Epoch 17: early stopping\n",
      "Le temps d'entraînement est de: 1072.53 secondes.\n"
     ]
    }
   ],
   "source": [
    "# Enregistrez l'heure de début\n",
    "start_time = time.time()\n",
    "\n",
    "# Entraîner sur les données d'entraînement (X_train, y_train)\n",
    "with tf.device('/gpu:0'): \n",
    "    history1 = model1.fit(X_train, y_train, epochs=50, batch_size=64, \n",
    "                       callbacks=callbacks_list, validation_data=(X_val, y_val), verbose=1)\n",
    "\n",
    "# Enregistrez l'heure de fin\n",
    "end_time = time.time()\n",
    "\n",
    "# Calculez et affichez la durée\n",
    "elapsed_time3 = end_time - start_time\n",
    "print(f\"Le temps d'entraînement est de: {elapsed_time3:.2f} secondes.\")"
   ]
  },
  {
   "cell_type": "code",
   "execution_count": 19,
   "id": "1877684c",
   "metadata": {},
   "outputs": [
    {
     "data": {
      "image/png": "[encoded data removed]",
      "text/plain": [
       "<Figure size 1000x500 with 2 Axes>"
      ]
     },
     "metadata": {},
     "output_type": "display_data"
    }
   ],
   "source": [
    "show_history(history1)\n",
    "plot_history(history1, path=\"standard.png\")\n",
    "plt.close()"
   ]
  },
  {
   "cell_type": "code",
   "execution_count": 20,
   "id": "9fa98986",
   "metadata": {},
   "outputs": [
    {
     "name": "stdout",
     "output_type": "stream",
     "text": [
      "Validation Loss     :  0.6646\n",
      "Validation Accuracy :  0.8662\n",
      "\n",
      "Test Loss           :  1.2000\n",
      "Test Accuracy       :  0.7975\n"
     ]
    }
   ],
   "source": [
    "# Score de l'epoch optimal\n",
    "\n",
    "model1.load_weights(model1_save_path1)\n",
    "\n",
    "loss, accuracy = model1.evaluate(X_val, y_val, verbose=False)\n",
    "print(\"Validation Loss     :  {:.4f}\".format(loss))\n",
    "print(\"Validation Accuracy :  {:.4f}\".format(accuracy))\n",
    "\n",
    "print(\"\")\n",
    "\n",
    "test_loss3, test_accuracy3 = model1.evaluate(X_test, y_test, verbose=False)\n",
    "print(\"Test Loss           :  {:.4f}\".format(test_loss3))\n",
    "print(\"Test Accuracy       :  {:.4f}\".format(test_accuracy3))"
   ]
  },
  {
   "cell_type": "markdown",
   "id": "0e916a4c",
   "metadata": {},
   "source": [
    "# Resultat modèle 3 :"
   ]
  },
  {
   "cell_type": "code",
   "execution_count": 40,
   "id": "0c2306f6",
   "metadata": {},
   "outputs": [
    {
     "data": {
      "text/html": [
       "<div>\n",
       "<style scoped>\n",
       "    .dataframe tbody tr th:only-of-type {\n",
       "        vertical-align: middle;\n",
       "    }\n",
       "\n",
       "    .dataframe tbody tr th {\n",
       "        vertical-align: top;\n",
       "    }\n",
       "\n",
       "    .dataframe thead th {\n",
       "        text-align: right;\n",
       "    }\n",
       "</style>\n",
       "<table border=\"1\" class=\"dataframe\">\n",
       "  <thead>\n",
       "    <tr style=\"text-align: right;\">\n",
       "      <th></th>\n",
       "      <th>Modèle</th>\n",
       "      <th>Nb_Epochs</th>\n",
       "      <th>test_loss</th>\n",
       "      <th>test_accuracy</th>\n",
       "      <th>temps (s)</th>\n",
       "    </tr>\n",
       "  </thead>\n",
       "  <tbody>\n",
       "    <tr>\n",
       "      <th>0</th>\n",
       "      <td>VGG16 Transfer Learning</td>\n",
       "      <td>17</td>\n",
       "      <td>1.200023</td>\n",
       "      <td>0.797468</td>\n",
       "      <td>1072.530149</td>\n",
       "    </tr>\n",
       "  </tbody>\n",
       "</table>\n",
       "</div>"
      ],
      "text/plain": [
       "                    Modèle  Nb_Epochs  test_loss  test_accuracy    temps (s)\n",
       "0  VGG16 Transfer Learning         17   1.200023       0.797468  1072.530149"
      ]
     },
     "execution_count": 40,
     "metadata": {},
     "output_type": "execute_result"
    }
   ],
   "source": [
    "data3 = {\n",
    "    \"Modèle\": [\"VGG16 Transfer Learning\"],\n",
    "    \"Nb_Epochs\": [17],\n",
    "    \"test_loss\": [test_loss3],\n",
    "    \"test_accuracy\": [test_accuracy3],\n",
    "    \"temps (s)\": [elapsed_time3]\n",
    "}\n",
    "\n",
    "\n",
    "df03 = pd.DataFrame(data3)\n",
    "df03"
   ]
  },
  {
   "cell_type": "markdown",
   "id": "a928e8cb",
   "metadata": {},
   "source": [
    "# **2.6 Comparative des différents** "
   ]
  },
  {
   "cell_type": "code",
   "execution_count": 41,
   "id": "3b8a708f",
   "metadata": {},
   "outputs": [
    {
     "data": {
      "text/html": [
       "<style type=\"text/css\">\n",
       "#T_f9f44_row0_col3, #T_f9f44_row1_col0, #T_f9f44_row2_col1, #T_f9f44_row2_col2 {\n",
       "  background-color: green;\n",
       "}\n",
       "</style>\n",
       "<table id=\"T_f9f44\">\n",
       "  <thead>\n",
       "    <tr>\n",
       "      <th class=\"blank level0\" >&nbsp;</th>\n",
       "      <th id=\"T_f9f44_level0_col0\" class=\"col_heading level0 col0\" >Nb_Epochs</th>\n",
       "      <th id=\"T_f9f44_level0_col1\" class=\"col_heading level0 col1\" >test_loss</th>\n",
       "      <th id=\"T_f9f44_level0_col2\" class=\"col_heading level0 col2\" >test_accuracy</th>\n",
       "      <th id=\"T_f9f44_level0_col3\" class=\"col_heading level0 col3\" >temps (s)</th>\n",
       "    </tr>\n",
       "    <tr>\n",
       "      <th class=\"index_name level0\" >Modèle</th>\n",
       "      <th class=\"blank col0\" >&nbsp;</th>\n",
       "      <th class=\"blank col1\" >&nbsp;</th>\n",
       "      <th class=\"blank col2\" >&nbsp;</th>\n",
       "      <th class=\"blank col3\" >&nbsp;</th>\n",
       "    </tr>\n",
       "  </thead>\n",
       "  <tbody>\n",
       "    <tr>\n",
       "      <th id=\"T_f9f44_level0_row0\" class=\"row_heading level0 row0\" >Perceptron multicouche</th>\n",
       "      <td id=\"T_f9f44_row0_col0\" class=\"data row0 col0\" >20</td>\n",
       "      <td id=\"T_f9f44_row0_col1\" class=\"data row0 col1\" >1396.210815</td>\n",
       "      <td id=\"T_f9f44_row0_col2\" class=\"data row0 col2\" >0.392405</td>\n",
       "      <td id=\"T_f9f44_row0_col3\" class=\"data row0 col3\" >49.074355</td>\n",
       "    </tr>\n",
       "    <tr>\n",
       "      <th id=\"T_f9f44_level0_row1\" class=\"row_heading level0 row1\" >Modèle simple CNN</th>\n",
       "      <td id=\"T_f9f44_row1_col0\" class=\"data row1 col0\" >9</td>\n",
       "      <td id=\"T_f9f44_row1_col1\" class=\"data row1 col1\" >1.937485</td>\n",
       "      <td id=\"T_f9f44_row1_col2\" class=\"data row1 col2\" >0.411392</td>\n",
       "      <td id=\"T_f9f44_row1_col3\" class=\"data row1 col3\" >109.212760</td>\n",
       "    </tr>\n",
       "    <tr>\n",
       "      <th id=\"T_f9f44_level0_row2\" class=\"row_heading level0 row2\" >VGG16 Transfer Learning</th>\n",
       "      <td id=\"T_f9f44_row2_col0\" class=\"data row2 col0\" >17</td>\n",
       "      <td id=\"T_f9f44_row2_col1\" class=\"data row2 col1\" >1.200023</td>\n",
       "      <td id=\"T_f9f44_row2_col2\" class=\"data row2 col2\" >0.797468</td>\n",
       "      <td id=\"T_f9f44_row2_col3\" class=\"data row2 col3\" >1072.530149</td>\n",
       "    </tr>\n",
       "  </tbody>\n",
       "</table>\n"
      ],
      "text/plain": [
       "<pandas.io.formats.style.Styler at 0x1d31085a710>"
      ]
     },
     "execution_count": 41,
     "metadata": {},
     "output_type": "execute_result"
    }
   ],
   "source": [
    "data = {\n",
    "    \"Modèle\": [\"Perceptron multicouche\", \"Modèle simple CNN\", \"VGG16 Transfer Learning\"],\n",
    "    \"Nb_Epochs\": [20, 9, 17],\n",
    "    \"test_loss\": [test_loss1,test_loss2,test_loss3],\n",
    "    \"test_accuracy\": [test_accuracy1,test_accuracy2,test_accuracy3],\n",
    "    \"temps (s)\": [elapsed_time1,elapsed_time2,elapsed_time3]\n",
    "}\n",
    "\n",
    "\n",
    "df1 = pd.DataFrame(data)\n",
    "df1.set_index('Modèle', inplace=True)\n",
    "\n",
    "def highlight_cells(col):\n",
    "    # Dictionnaire pour mapper les colonnes aux fonctions appropriées\n",
    "    mappers = {\n",
    "        'Nb_Epochs': min,\n",
    "        'test_loss': min,\n",
    "        'test_accuracy': max,\n",
    "        'temps (s)': min\n",
    "    }\n",
    "    \n",
    "    if col.name in mappers:\n",
    "        criteria = mappers[col.name](col)\n",
    "        return ['background-color: green' if v == criteria else '' for v in col]\n",
    "    return [''] * len(col)\n",
    "\n",
    "styled_df = df1.style.apply(highlight_cells)\n",
    "styled_df"
   ]
  },
  {
   "cell_type": "markdown",
   "id": "0cfb6a5e",
   "metadata": {},
   "source": [
    "# **3. Utiliser des techniques d’augmentation des données**"
   ]
  },
  {
   "cell_type": "markdown",
   "id": "231e46b2",
   "metadata": {},
   "source": [
    "# 3.1 Création de X1"
   ]
  },
  {
   "cell_type": "code",
   "execution_count": 23,
   "id": "ba829010",
   "metadata": {},
   "outputs": [
    {
     "name": "stdout",
     "output_type": "stream",
     "text": [
      "(1050, 4)\n"
     ]
    },
    {
     "data": {
      "text/html": [
       "<div>\n",
       "<style scoped>\n",
       "    .dataframe tbody tr th:only-of-type {\n",
       "        vertical-align: middle;\n",
       "    }\n",
       "\n",
       "    .dataframe tbody tr th {\n",
       "        vertical-align: top;\n",
       "    }\n",
       "\n",
       "    .dataframe thead th {\n",
       "        text-align: right;\n",
       "    }\n",
       "</style>\n",
       "<table border=\"1\" class=\"dataframe\">\n",
       "  <thead>\n",
       "    <tr style=\"text-align: right;\">\n",
       "      <th></th>\n",
       "      <th>uniq_id</th>\n",
       "      <th>image_path</th>\n",
       "      <th>label_name</th>\n",
       "      <th>label</th>\n",
       "    </tr>\n",
       "  </thead>\n",
       "  <tbody>\n",
       "    <tr>\n",
       "      <th>0</th>\n",
       "      <td>55b85ea15a1536d46b7190ad6fff8ce7</td>\n",
       "      <td>55b85ea15a1536d46b7190ad6fff8ce7.jpg</td>\n",
       "      <td>Home Furnishing</td>\n",
       "      <td>4</td>\n",
       "    </tr>\n",
       "    <tr>\n",
       "      <th>1</th>\n",
       "      <td>7b72c92c2f6c40268628ec5f14c6d590</td>\n",
       "      <td>7b72c92c2f6c40268628ec5f14c6d590.jpg</td>\n",
       "      <td>Baby Care</td>\n",
       "      <td>0</td>\n",
       "    </tr>\n",
       "    <tr>\n",
       "      <th>2</th>\n",
       "      <td>64d5d4a258243731dc7bbb1eef49ad74</td>\n",
       "      <td>64d5d4a258243731dc7bbb1eef49ad74.jpg</td>\n",
       "      <td>Baby Care</td>\n",
       "      <td>0</td>\n",
       "    </tr>\n",
       "    <tr>\n",
       "      <th>3</th>\n",
       "      <td>d4684dcdc759dd9cdf41504698d737d8</td>\n",
       "      <td>d4684dcdc759dd9cdf41504698d737d8.jpg</td>\n",
       "      <td>Home Furnishing</td>\n",
       "      <td>4</td>\n",
       "    </tr>\n",
       "    <tr>\n",
       "      <th>4</th>\n",
       "      <td>6325b6870c54cd47be6ebfbffa620ec7</td>\n",
       "      <td>6325b6870c54cd47be6ebfbffa620ec7.jpg</td>\n",
       "      <td>Home Furnishing</td>\n",
       "      <td>4</td>\n",
       "    </tr>\n",
       "  </tbody>\n",
       "</table>\n",
       "</div>"
      ],
      "text/plain": [
       "                            uniq_id                            image_path  \\\n",
       "0  55b85ea15a1536d46b7190ad6fff8ce7  55b85ea15a1536d46b7190ad6fff8ce7.jpg   \n",
       "1  7b72c92c2f6c40268628ec5f14c6d590  7b72c92c2f6c40268628ec5f14c6d590.jpg   \n",
       "2  64d5d4a258243731dc7bbb1eef49ad74  64d5d4a258243731dc7bbb1eef49ad74.jpg   \n",
       "3  d4684dcdc759dd9cdf41504698d737d8  d4684dcdc759dd9cdf41504698d737d8.jpg   \n",
       "4  6325b6870c54cd47be6ebfbffa620ec7  6325b6870c54cd47be6ebfbffa620ec7.jpg   \n",
       "\n",
       "        label_name  label  \n",
       "0  Home Furnishing      4  \n",
       "1        Baby Care      0  \n",
       "2        Baby Care      0  \n",
       "3  Home Furnishing      4  \n",
       "4  Home Furnishing      4  "
      ]
     },
     "execution_count": 23,
     "metadata": {},
     "output_type": "execute_result"
    }
   ],
   "source": [
    "df = pd.read_csv('C:/Users/misso/Desktop/Formation_DS_23_24_MERAH/2-Projet/6- Projet 6/Code/data_categories_image.csv')\n",
    "df.drop(columns=['Unnamed: 0'], inplace=True)\n",
    "print(df.shape)\n",
    "df.head()"
   ]
  },
  {
   "cell_type": "code",
   "execution_count": 24,
   "id": "ff742a66",
   "metadata": {},
   "outputs": [
    {
     "name": "stdout",
     "output_type": "stream",
     "text": [
      "(1050, 224, 224, 3)\n"
     ]
    }
   ],
   "source": [
    "# Augmenter la limite par défaut (ici, par exemple, fixée à une valeur très élevée)\n",
    "Image.MAX_IMAGE_PIXELS = None \n",
    "\n",
    "def image_prep_fct(df):\n",
    "    # Définir le chemin d'accès relatif aux images\n",
    "    base_image_path = \"C:/Users/misso/Desktop/Formation_DS_23_24_MERAH/2-Projet/6- Projet 6/Ressources/Images/\"\n",
    "\n",
    "    prepared_images = []\n",
    "    for image_name in df['image_path']:\n",
    "        # Construire le chemin complet de l'image\n",
    "        image_path = os.path.join(base_image_path, image_name)\n",
    "\n",
    "        # Charger, traiter et prétraiter l'image\n",
    "        img = load_img(image_path, target_size=(224, 224))\n",
    "        img = img_to_array(img)\n",
    "        img = img.reshape((img.shape[0], img.shape[1], img.shape[2]))\n",
    "        img = preprocess_input(img)\n",
    "        prepared_images.append(img)\n",
    "\n",
    "    prepared_images_np = np.array(prepared_images)\n",
    "    return prepared_images_np\n",
    "    \n",
    "images_np = image_prep_fct(df)\n",
    "X1 = images_np\n",
    "print(X.shape)"
   ]
  },
  {
   "cell_type": "markdown",
   "id": "e47efc8f",
   "metadata": {},
   "source": [
    "# 3.2 Création de Y1"
   ]
  },
  {
   "cell_type": "code",
   "execution_count": 25,
   "id": "bae278ab",
   "metadata": {},
   "outputs": [
    {
     "name": "stdout",
     "output_type": "stream",
     "text": [
      "(1050, 7)\n"
     ]
    }
   ],
   "source": [
    "# Initialisation du LabelEncoder\n",
    "label_encoder = LabelEncoder()\n",
    "\n",
    "# Convertir les labels texte en labels numériques\n",
    "y1_encoded = label_encoder.fit_transform(df['label_name'])\n",
    "\n",
    "# Conversion des labels numériques en one-hot encoding\n",
    "y1 = to_categorical(y1_encoded)\n",
    "\n",
    "print(y.shape)"
   ]
  },
  {
   "cell_type": "markdown",
   "id": "aa908aad",
   "metadata": {},
   "source": [
    "# 3.3 Séparation du jeu de données en jeu d’entraînement, jeu de validation et jeu de test"
   ]
  },
  {
   "cell_type": "markdown",
   "id": "93c3c331",
   "metadata": {},
   "source": [
    "**Création de train, validation, test**\n",
    "\n",
    "    70% pour l'entraînement\n",
    "    15% pour la validation\n",
    "    15% pour le test\n",
    "\n"
   ]
  },
  {
   "cell_type": "code",
   "execution_count": 26,
   "id": "43610e76",
   "metadata": {},
   "outputs": [],
   "source": [
    "X1_temp, X1_train, y1_temp, y1_train = train_test_split(X1, y1, test_size=0.7, random_state=42, stratify=y1)\n",
    "X1_val, X1_test, y1_val, y1_test = train_test_split(X1_temp, y1_temp, test_size=0.5, random_state=42, stratify=y1_temp)"
   ]
  },
  {
   "cell_type": "code",
   "execution_count": 27,
   "id": "aa02a747",
   "metadata": {},
   "outputs": [
    {
     "name": "stdout",
     "output_type": "stream",
     "text": [
      "La forme de X1_train est : (735, 224, 224, 3)\n",
      "La forme de X1_val est : (157, 224, 224, 3)\n",
      "La forme de X1_test est : (157, 224, 224, 3)\n"
     ]
    }
   ],
   "source": [
    "print(\"La forme de X1_train est :\", X1_train.shape)\n",
    "print(\"La forme de X1_val est :\", X1_val.shape)\n",
    "print(\"La forme de X1_test est :\", X1_val.shape)"
   ]
  },
  {
   "cell_type": "markdown",
   "id": "f7d84169",
   "metadata": {},
   "source": [
    "# 3.4 Utilisation plusieurs techniques d’augmentation des données"
   ]
  },
  {
   "cell_type": "markdown",
   "id": "1b07c723",
   "metadata": {},
   "source": [
    "**Data Augmentation: Applique différentes techniques de modification des images pour augmenter la diversité des données et aider à prévenir le surapprentissage**\n",
    "\n",
    "  - RandomFlip: Effectue un renversement aléatoire (flip) des images horizontalement.\n",
    "  - RandomRotation: Fait pivoter l'image de manière aléatoire avec un facteur maximum de 0.1 (36° max)\n",
    "  - RandomZoom: Zoom aléatoire avec un facteur maximum de 0.1.\n",
    "\n",
    "**On construit un modèle séquentiel qui comprend:**\n",
    "\n",
    "   - La partie de data augmentation.\n",
    "   - La couche Rescaling qui recale les valeurs des pixels pour qu'elles soient comprises entre -1 et 1.\n",
    "   - Le modèle VGG16 pré-entraîné.\n",
    "   - GlobalAveragePooling2D: Une couche de mise en commun qui convertit les caractéristiques 2D en un vecteur 1D.\n",
    "   - Une couche Dense de 256 neurones avec une fonction d'activation ReLU.\n",
    "   - Une couche Dropout avec un taux de 0,5 pour prévenir le surapprentissage.\n",
    "   - Une autre couche Dense avec 7 neurones et une activation softmax (Pour classer les images dans 7 classes différentes)\n",
    "\n"
   ]
  },
  {
   "cell_type": "markdown",
   "id": "f537e95b",
   "metadata": {},
   "source": [
    "# **3.5 Comparative des différents**"
   ]
  },
  {
   "cell_type": "code",
   "execution_count": 28,
   "id": "7dbb6db7",
   "metadata": {},
   "outputs": [],
   "source": [
    "def create_model_fct() :\n",
    "    # Data augmentation\n",
    "    data_augmentation = Sequential([\n",
    "        RandomFlip(\"horizontal\", input_shape=(224, 224, 3)),\n",
    "        RandomRotation(0.1),\n",
    "        RandomZoom(0.1),\n",
    "      ])\n",
    "    \n",
    "    # Récupération modèle pré-entraîné\n",
    "    model_base = VGG16(include_top=False, weights=\"imagenet\", input_shape=(224, 224, 3))\n",
    "    for layer in model_base.layers:\n",
    "        layer.trainable = False\n",
    "\n",
    "    # Définition du nouveau modèle\n",
    "    model = Sequential([\n",
    "                data_augmentation,\n",
    "                Rescaling(1./127.5, offset=-1),\n",
    "                model_base,\n",
    "                GlobalAveragePooling2D(),\n",
    "                Dense(256, activation='relu'),\n",
    "                Dropout(0.5),\n",
    "                Dense(7, activation='softmax')\n",
    "                ])\n",
    "\n",
    "    # compilation du modèle \n",
    "    model.compile(loss=\"categorical_crossentropy\", optimizer='rmsprop', metrics=[\"accuracy\"])\n",
    "\n",
    "    print(model.summary())\n",
    "    \n",
    "    return model"
   ]
  },
  {
   "cell_type": "code",
   "execution_count": 29,
   "id": "e19b9e9b",
   "metadata": {},
   "outputs": [
    {
     "name": "stdout",
     "output_type": "stream",
     "text": [
      "Model: \"sequential_3\"\n",
      "_________________________________________________________________\n",
      " Layer (type)                Output Shape              Param #   \n",
      "=================================================================\n",
      " sequential_2 (Sequential)   (None, 224, 224, 3)       0         \n",
      "                                                                 \n",
      " rescaling (Rescaling)       (None, 224, 224, 3)       0         \n",
      "                                                                 \n",
      " vgg16 (Functional)          (None, 7, 7, 512)         14714688  \n",
      "                                                                 \n",
      " global_average_pooling2d_2  (None, 512)               0         \n",
      "  (GlobalAveragePooling2D)                                       \n",
      "                                                                 \n",
      " dense_9 (Dense)             (None, 256)               131328    \n",
      "                                                                 \n",
      " dropout_2 (Dropout)         (None, 256)               0         \n",
      "                                                                 \n",
      " dense_10 (Dense)            (None, 7)                 1799      \n",
      "                                                                 \n",
      "=================================================================\n",
      "Total params: 14847815 (56.64 MB)\n",
      "Trainable params: 133127 (520.03 KB)\n",
      "Non-trainable params: 14714688 (56.13 MB)\n",
      "_________________________________________________________________\n",
      "None\n"
     ]
    }
   ],
   "source": [
    "# Création du modèle\n",
    "with tf.device('/gpu:0'): \n",
    "    model1 = create_model_fct()\n",
    "\n",
    "# Création du callback\n",
    "model1_save_path1 = \"./model1_best_weights.h5\"\n",
    "checkpoint = ModelCheckpoint(model1_save_path1, monitor='val_loss', verbose=1, save_best_only=True, mode='min')\n",
    "es = EarlyStopping(monitor='val_loss', mode='min', verbose=1, patience=5)\n",
    "callbacks_list = [checkpoint, es]"
   ]
  },
  {
   "cell_type": "code",
   "execution_count": 30,
   "id": "5495c5b5",
   "metadata": {},
   "outputs": [
    {
     "name": "stdout",
     "output_type": "stream",
     "text": [
      "Epoch 1/50\n",
      "12/12 [==============================] - ETA: 0s - loss: 1.8026 - accuracy: 0.2966\n",
      "Epoch 1: val_loss improved from inf to 1.36623, saving model to .\\model1_best_weights.h5\n",
      "12/12 [==============================] - 69s 6s/step - loss: 1.8026 - accuracy: 0.2966 - val_loss: 1.3662 - val_accuracy: 0.5287\n",
      "Epoch 2/50\n",
      "12/12 [==============================] - ETA: 0s - loss: 1.3732 - accuracy: 0.5374\n",
      "Epoch 2: val_loss improved from 1.36623 to 1.10380, saving model to .\\model1_best_weights.h5\n",
      "12/12 [==============================] - 62s 5s/step - loss: 1.3732 - accuracy: 0.5374 - val_loss: 1.1038 - val_accuracy: 0.6752\n",
      "Epoch 3/50\n",
      "12/12 [==============================] - ETA: 0s - loss: 1.1709 - accuracy: 0.6395\n",
      "Epoch 3: val_loss improved from 1.10380 to 0.94701, saving model to .\\model1_best_weights.h5\n",
      "12/12 [==============================] - 66s 6s/step - loss: 1.1709 - accuracy: 0.6395 - val_loss: 0.9470 - val_accuracy: 0.7261\n",
      "Epoch 4/50\n",
      "12/12 [==============================] - ETA: 0s - loss: 1.0758 - accuracy: 0.6653\n",
      "Epoch 4: val_loss improved from 0.94701 to 0.84770, saving model to .\\model1_best_weights.h5\n",
      "12/12 [==============================] - 68s 6s/step - loss: 1.0758 - accuracy: 0.6653 - val_loss: 0.8477 - val_accuracy: 0.7707\n",
      "Epoch 5/50\n",
      "12/12 [==============================] - ETA: 0s - loss: 0.9855 - accuracy: 0.6952\n",
      "Epoch 5: val_loss improved from 0.84770 to 0.74607, saving model to .\\model1_best_weights.h5\n",
      "12/12 [==============================] - 64s 5s/step - loss: 0.9855 - accuracy: 0.6952 - val_loss: 0.7461 - val_accuracy: 0.8344\n",
      "Epoch 6/50\n",
      "12/12 [==============================] - ETA: 0s - loss: 0.9207 - accuracy: 0.7170\n",
      "Epoch 6: val_loss improved from 0.74607 to 0.72319, saving model to .\\model1_best_weights.h5\n",
      "12/12 [==============================] - 62s 5s/step - loss: 0.9207 - accuracy: 0.7170 - val_loss: 0.7232 - val_accuracy: 0.7834\n",
      "Epoch 7/50\n",
      "12/12 [==============================] - ETA: 0s - loss: 0.8588 - accuracy: 0.7320\n",
      "Epoch 7: val_loss improved from 0.72319 to 0.70983, saving model to .\\model1_best_weights.h5\n",
      "12/12 [==============================] - 64s 5s/step - loss: 0.8588 - accuracy: 0.7320 - val_loss: 0.7098 - val_accuracy: 0.7834\n",
      "Epoch 8/50\n",
      "12/12 [==============================] - ETA: 0s - loss: 0.8311 - accuracy: 0.7415\n",
      "Epoch 8: val_loss improved from 0.70983 to 0.64343, saving model to .\\model1_best_weights.h5\n",
      "12/12 [==============================] - 63s 5s/step - loss: 0.8311 - accuracy: 0.7415 - val_loss: 0.6434 - val_accuracy: 0.8153\n",
      "Epoch 9/50\n",
      "12/12 [==============================] - ETA: 0s - loss: 0.7845 - accuracy: 0.7633\n",
      "Epoch 9: val_loss improved from 0.64343 to 0.62250, saving model to .\\model1_best_weights.h5\n",
      "12/12 [==============================] - 61s 5s/step - loss: 0.7845 - accuracy: 0.7633 - val_loss: 0.6225 - val_accuracy: 0.8280\n",
      "Epoch 10/50\n",
      "12/12 [==============================] - ETA: 0s - loss: 0.7817 - accuracy: 0.7510\n",
      "Epoch 10: val_loss did not improve from 0.62250\n",
      "12/12 [==============================] - 63s 5s/step - loss: 0.7817 - accuracy: 0.7510 - val_loss: 0.6279 - val_accuracy: 0.8217\n",
      "Epoch 11/50\n",
      "12/12 [==============================] - ETA: 0s - loss: 0.7379 - accuracy: 0.7551\n",
      "Epoch 11: val_loss improved from 0.62250 to 0.59274, saving model to .\\model1_best_weights.h5\n",
      "12/12 [==============================] - 63s 5s/step - loss: 0.7379 - accuracy: 0.7551 - val_loss: 0.5927 - val_accuracy: 0.8217\n",
      "Epoch 12/50\n",
      "12/12 [==============================] - ETA: 0s - loss: 0.7219 - accuracy: 0.7687\n",
      "Epoch 12: val_loss did not improve from 0.59274\n",
      "12/12 [==============================] - 63s 5s/step - loss: 0.7219 - accuracy: 0.7687 - val_loss: 0.6112 - val_accuracy: 0.8025\n",
      "Epoch 13/50\n",
      "12/12 [==============================] - ETA: 0s - loss: 0.6895 - accuracy: 0.7782\n",
      "Epoch 13: val_loss improved from 0.59274 to 0.56580, saving model to .\\model1_best_weights.h5\n",
      "12/12 [==============================] - 64s 5s/step - loss: 0.6895 - accuracy: 0.7782 - val_loss: 0.5658 - val_accuracy: 0.8408\n",
      "Epoch 14/50\n",
      "12/12 [==============================] - ETA: 0s - loss: 0.6399 - accuracy: 0.7973\n",
      "Epoch 14: val_loss improved from 0.56580 to 0.56162, saving model to .\\model1_best_weights.h5\n",
      "12/12 [==============================] - 63s 5s/step - loss: 0.6399 - accuracy: 0.7973 - val_loss: 0.5616 - val_accuracy: 0.8280\n",
      "Epoch 15/50\n",
      "12/12 [==============================] - ETA: 0s - loss: 0.6432 - accuracy: 0.8027\n",
      "Epoch 15: val_loss did not improve from 0.56162\n",
      "12/12 [==============================] - 64s 5s/step - loss: 0.6432 - accuracy: 0.8027 - val_loss: 0.5778 - val_accuracy: 0.8280\n",
      "Epoch 16/50\n",
      "12/12 [==============================] - ETA: 0s - loss: 0.6485 - accuracy: 0.7891\n",
      "Epoch 16: val_loss did not improve from 0.56162\n",
      "12/12 [==============================] - 63s 5s/step - loss: 0.6485 - accuracy: 0.7891 - val_loss: 0.5758 - val_accuracy: 0.7898\n",
      "Epoch 17/50\n",
      "12/12 [==============================] - ETA: 0s - loss: 0.5895 - accuracy: 0.7918\n",
      "Epoch 17: val_loss improved from 0.56162 to 0.55001, saving model to .\\model1_best_weights.h5\n",
      "12/12 [==============================] - 62s 5s/step - loss: 0.5895 - accuracy: 0.7918 - val_loss: 0.5500 - val_accuracy: 0.8280\n",
      "Epoch 18/50\n",
      "12/12 [==============================] - ETA: 0s - loss: 0.5984 - accuracy: 0.8109\n",
      "Epoch 18: val_loss improved from 0.55001 to 0.54410, saving model to .\\model1_best_weights.h5\n",
      "12/12 [==============================] - 63s 5s/step - loss: 0.5984 - accuracy: 0.8109 - val_loss: 0.5441 - val_accuracy: 0.8280\n",
      "Epoch 19/50\n",
      "12/12 [==============================] - ETA: 0s - loss: 0.5862 - accuracy: 0.8136\n",
      "Epoch 19: val_loss improved from 0.54410 to 0.52072, saving model to .\\model1_best_weights.h5\n",
      "12/12 [==============================] - 63s 5s/step - loss: 0.5862 - accuracy: 0.8136 - val_loss: 0.5207 - val_accuracy: 0.8471\n",
      "Epoch 20/50\n",
      "12/12 [==============================] - ETA: 0s - loss: 0.5813 - accuracy: 0.8109\n",
      "Epoch 20: val_loss did not improve from 0.52072\n",
      "12/12 [==============================] - 63s 5s/step - loss: 0.5813 - accuracy: 0.8109 - val_loss: 0.5227 - val_accuracy: 0.8344\n",
      "Epoch 21/50\n",
      "12/12 [==============================] - ETA: 0s - loss: 0.5212 - accuracy: 0.8245\n",
      "Epoch 21: val_loss improved from 0.52072 to 0.51157, saving model to .\\model1_best_weights.h5\n",
      "12/12 [==============================] - 63s 5s/step - loss: 0.5212 - accuracy: 0.8245 - val_loss: 0.5116 - val_accuracy: 0.8471\n",
      "Epoch 22/50\n",
      "12/12 [==============================] - ETA: 0s - loss: 0.5249 - accuracy: 0.8299\n",
      "Epoch 22: val_loss did not improve from 0.51157\n",
      "12/12 [==============================] - 63s 5s/step - loss: 0.5249 - accuracy: 0.8299 - val_loss: 0.5630 - val_accuracy: 0.8153\n",
      "Epoch 23/50\n",
      "12/12 [==============================] - ETA: 0s - loss: 0.5377 - accuracy: 0.8299\n",
      "Epoch 23: val_loss did not improve from 0.51157\n",
      "12/12 [==============================] - 71s 6s/step - loss: 0.5377 - accuracy: 0.8299 - val_loss: 0.5496 - val_accuracy: 0.8153\n",
      "Epoch 24/50\n",
      "12/12 [==============================] - ETA: 0s - loss: 0.4890 - accuracy: 0.8435\n",
      "Epoch 24: val_loss did not improve from 0.51157\n",
      "12/12 [==============================] - 67s 6s/step - loss: 0.4890 - accuracy: 0.8435 - val_loss: 0.5218 - val_accuracy: 0.8408\n",
      "Epoch 25/50\n",
      "12/12 [==============================] - ETA: 0s - loss: 0.5137 - accuracy: 0.8354\n",
      "Epoch 25: val_loss improved from 0.51157 to 0.50820, saving model to .\\model1_best_weights.h5\n",
      "12/12 [==============================] - 2640s 240s/step - loss: 0.5137 - accuracy: 0.8354 - val_loss: 0.5082 - val_accuracy: 0.8599\n",
      "Epoch 26/50\n",
      "12/12 [==============================] - ETA: 0s - loss: 0.5093 - accuracy: 0.8490\n",
      "Epoch 26: val_loss improved from 0.50820 to 0.49258, saving model to .\\model1_best_weights.h5\n",
      "12/12 [==============================] - 55s 5s/step - loss: 0.5093 - accuracy: 0.8490 - val_loss: 0.4926 - val_accuracy: 0.8471\n",
      "Epoch 27/50\n",
      "12/12 [==============================] - ETA: 0s - loss: 0.4856 - accuracy: 0.8422\n",
      "Epoch 27: val_loss did not improve from 0.49258\n",
      "12/12 [==============================] - 53s 4s/step - loss: 0.4856 - accuracy: 0.8422 - val_loss: 0.5289 - val_accuracy: 0.8217\n",
      "Epoch 28/50\n"
     ]
    },
    {
     "name": "stdout",
     "output_type": "stream",
     "text": [
      "12/12 [==============================] - ETA: 0s - loss: 0.4672 - accuracy: 0.8571\n",
      "Epoch 28: val_loss did not improve from 0.49258\n",
      "12/12 [==============================] - 52s 4s/step - loss: 0.4672 - accuracy: 0.8571 - val_loss: 0.5573 - val_accuracy: 0.8089\n",
      "Epoch 29/50\n",
      "12/12 [==============================] - ETA: 0s - loss: 0.4453 - accuracy: 0.8585\n",
      "Epoch 29: val_loss did not improve from 0.49258\n",
      "12/12 [==============================] - 54s 5s/step - loss: 0.4453 - accuracy: 0.8585 - val_loss: 0.5629 - val_accuracy: 0.8217\n",
      "Epoch 30/50\n",
      "12/12 [==============================] - ETA: 0s - loss: 0.4425 - accuracy: 0.8599\n",
      "Epoch 30: val_loss did not improve from 0.49258\n",
      "12/12 [==============================] - 57s 5s/step - loss: 0.4425 - accuracy: 0.8599 - val_loss: 0.5012 - val_accuracy: 0.8471\n",
      "Epoch 31/50\n",
      "12/12 [==============================] - ETA: 0s - loss: 0.4238 - accuracy: 0.8599\n",
      "Epoch 31: val_loss did not improve from 0.49258\n",
      "12/12 [==============================] - 64s 5s/step - loss: 0.4238 - accuracy: 0.8599 - val_loss: 0.5081 - val_accuracy: 0.8280\n",
      "Epoch 31: early stopping\n",
      "Le temps d'entraînement est de: 4515.72 secondes.\n"
     ]
    }
   ],
   "source": [
    "# Enregistrez l'heure de début\n",
    "start_time = time.time()\n",
    "\n",
    "# Entraîner sur les données d'entraînement (X_train, y_train)\n",
    "with tf.device('/gpu:0'): \n",
    "    history1 = model1.fit(X1_train, y1_train, epochs=50, batch_size=64, \n",
    "                       callbacks=callbacks_list, validation_data=(X1_val, y1_val), verbose=1)\n",
    "\n",
    "# Enregistrez l'heure de fin\n",
    "end_time = time.time()\n",
    "\n",
    "# Calculez et affichez la durée\n",
    "elapsed_time4 = end_time - start_time\n",
    "print(f\"Le temps d'entraînement est de: {elapsed_time4:.2f} secondes.\")"
   ]
  },
  {
   "cell_type": "code",
   "execution_count": 31,
   "id": "7f2d2c3d",
   "metadata": {},
   "outputs": [
    {
     "data": {
      "image/png": "[encoded data removed]",
      "text/plain": [
       "<Figure size 1000x500 with 2 Axes>"
      ]
     },
     "metadata": {},
     "output_type": "display_data"
    }
   ],
   "source": [
    "show_history(history1)\n",
    "plot_history(history1, path=\"standard.png\")\n",
    "plt.close()"
   ]
  },
  {
   "cell_type": "code",
   "execution_count": 32,
   "id": "c297c04b",
   "metadata": {},
   "outputs": [
    {
     "name": "stdout",
     "output_type": "stream",
     "text": [
      "Validation Loss     :  0.4926\n",
      "Validation Accuracy :  0.8471\n",
      "\n",
      "Test Loss           :  0.6972\n",
      "Test Accuracy       :  0.8038\n"
     ]
    }
   ],
   "source": [
    "# Score de l'epoch optimal\n",
    "\n",
    "model1.load_weights(model1_save_path1)\n",
    "\n",
    "loss, accuracy = model1.evaluate(X1_val, y1_val, verbose=False)\n",
    "print(\"Validation Loss     :  {:.4f}\".format(loss))\n",
    "print(\"Validation Accuracy :  {:.4f}\".format(accuracy))\n",
    "\n",
    "print(\"\")\n",
    "\n",
    "test_loss4, test_accuracy4 = model1.evaluate(X1_test, y1_test, verbose=False)\n",
    "print(\"Test Loss           :  {:.4f}\".format(test_loss4))\n",
    "print(\"Test Accuracy       :  {:.4f}\".format(test_accuracy4))"
   ]
  },
  {
   "cell_type": "code",
   "execution_count": 42,
   "id": "3246560a",
   "metadata": {},
   "outputs": [
    {
     "data": {
      "text/html": [
       "<style type=\"text/css\">\n",
       "#T_52ed0_row0_col3, #T_52ed0_row1_col0, #T_52ed0_row3_col1, #T_52ed0_row3_col2 {\n",
       "  background-color: green;\n",
       "}\n",
       "</style>\n",
       "<table id=\"T_52ed0\">\n",
       "  <thead>\n",
       "    <tr>\n",
       "      <th class=\"blank level0\" >&nbsp;</th>\n",
       "      <th id=\"T_52ed0_level0_col0\" class=\"col_heading level0 col0\" >Nb_Epochs</th>\n",
       "      <th id=\"T_52ed0_level0_col1\" class=\"col_heading level0 col1\" >test_loss</th>\n",
       "      <th id=\"T_52ed0_level0_col2\" class=\"col_heading level0 col2\" >test_accuracy</th>\n",
       "      <th id=\"T_52ed0_level0_col3\" class=\"col_heading level0 col3\" >temps (s)</th>\n",
       "    </tr>\n",
       "    <tr>\n",
       "      <th class=\"index_name level0\" >Modèle</th>\n",
       "      <th class=\"blank col0\" >&nbsp;</th>\n",
       "      <th class=\"blank col1\" >&nbsp;</th>\n",
       "      <th class=\"blank col2\" >&nbsp;</th>\n",
       "      <th class=\"blank col3\" >&nbsp;</th>\n",
       "    </tr>\n",
       "  </thead>\n",
       "  <tbody>\n",
       "    <tr>\n",
       "      <th id=\"T_52ed0_level0_row0\" class=\"row_heading level0 row0\" >Perceptron multicouche</th>\n",
       "      <td id=\"T_52ed0_row0_col0\" class=\"data row0 col0\" >20</td>\n",
       "      <td id=\"T_52ed0_row0_col1\" class=\"data row0 col1\" >1396.210815</td>\n",
       "      <td id=\"T_52ed0_row0_col2\" class=\"data row0 col2\" >0.392405</td>\n",
       "      <td id=\"T_52ed0_row0_col3\" class=\"data row0 col3\" >49.074355</td>\n",
       "    </tr>\n",
       "    <tr>\n",
       "      <th id=\"T_52ed0_level0_row1\" class=\"row_heading level0 row1\" >Modèle simple CNN</th>\n",
       "      <td id=\"T_52ed0_row1_col0\" class=\"data row1 col0\" >9</td>\n",
       "      <td id=\"T_52ed0_row1_col1\" class=\"data row1 col1\" >1.937485</td>\n",
       "      <td id=\"T_52ed0_row1_col2\" class=\"data row1 col2\" >0.411392</td>\n",
       "      <td id=\"T_52ed0_row1_col3\" class=\"data row1 col3\" >109.212760</td>\n",
       "    </tr>\n",
       "    <tr>\n",
       "      <th id=\"T_52ed0_level0_row2\" class=\"row_heading level0 row2\" >VGG16 + Transfer Learning</th>\n",
       "      <td id=\"T_52ed0_row2_col0\" class=\"data row2 col0\" >17</td>\n",
       "      <td id=\"T_52ed0_row2_col1\" class=\"data row2 col1\" >1.200023</td>\n",
       "      <td id=\"T_52ed0_row2_col2\" class=\"data row2 col2\" >0.797468</td>\n",
       "      <td id=\"T_52ed0_row2_col3\" class=\"data row2 col3\" >1072.530149</td>\n",
       "    </tr>\n",
       "    <tr>\n",
       "      <th id=\"T_52ed0_level0_row3\" class=\"row_heading level0 row3\" >VGG16 Transfer Learning + DATA AUGMENTATION</th>\n",
       "      <td id=\"T_52ed0_row3_col0\" class=\"data row3 col0\" >31</td>\n",
       "      <td id=\"T_52ed0_row3_col1\" class=\"data row3 col1\" >0.697156</td>\n",
       "      <td id=\"T_52ed0_row3_col2\" class=\"data row3 col2\" >0.803797</td>\n",
       "      <td id=\"T_52ed0_row3_col3\" class=\"data row3 col3\" >4515.723643</td>\n",
       "    </tr>\n",
       "  </tbody>\n",
       "</table>\n"
      ],
      "text/plain": [
       "<pandas.io.formats.style.Styler at 0x1d30d571a10>"
      ]
     },
     "execution_count": 42,
     "metadata": {},
     "output_type": "execute_result"
    }
   ],
   "source": [
    "data = {\n",
    "    \"Modèle\": [\"Perceptron multicouche\", \"Modèle simple CNN\", \"VGG16 + Transfer Learning\",\n",
    "               \"VGG16 Transfer Learning + DATA AUGMENTATION\"],\n",
    "    \n",
    "    \"Nb_Epochs\": [20,9,17,31],\n",
    "    \"test_loss\":     [test_loss1,test_loss2,test_loss3,test_loss4],\n",
    "    \"test_accuracy\": [test_accuracy1,test_accuracy2,test_accuracy3,test_accuracy4],\n",
    "    \"temps (s)\":     [elapsed_time1,elapsed_time2,elapsed_time3,elapsed_time4]    \n",
    "    \n",
    "}\n",
    "\n",
    "df = pd.DataFrame(data)\n",
    "df.set_index('Modèle', inplace=True)\n",
    "\n",
    "def highlight_cells(col):\n",
    "    # Dictionnaire pour mapper les colonnes aux fonctions appropriées\n",
    "    mappers = {\n",
    "        'Nb_Epochs': min,\n",
    "        'test_loss': min,\n",
    "        'test_accuracy': max,\n",
    "        'temps (s)': min\n",
    "    }\n",
    "    \n",
    "    if col.name in mappers:\n",
    "        criteria = mappers[col.name](col)\n",
    "        return ['background-color: green' if v == criteria else '' for v in col]\n",
    "    return [''] * len(col)\n",
    "\n",
    "styled_df = df.style.apply(highlight_cells)\n",
    "styled_df"
   ]
  },
  {
   "cell_type": "code",
   "execution_count": null,
   "id": "e58b4ee2",
   "metadata": {},
   "outputs": [],
   "source": []
  },
  {
   "cell_type": "code",
   "execution_count": null,
   "id": "06eeb1d5",
   "metadata": {},
   "outputs": [],
   "source": []
  },
  {
   "cell_type": "code",
   "execution_count": null,
   "id": "08a0d6e0",
   "metadata": {},
   "outputs": [],
   "source": []
  }
 ],
 "metadata": {
  "kernelspec": {
   "display_name": "venvPr6kernel",
   "language": "python",
   "name": "venvpr6kernel"
  },
  "language_info": {
   "codemirror_mode": {
    "name": "ipython",
    "version": 3
   },
   "file_extension": ".py",
   "mimetype": "text/x-python",
   "name": "python",
   "nbconvert_exporter": "python",
   "pygments_lexer": "ipython3",
   "version": "3.11.4"
  },
  "toc": {
   "base_numbering": 1,
   "nav_menu": {},
   "number_sections": true,
   "sideBar": true,
   "skip_h1_title": false,
   "title_cell": "Table of Contents",
   "title_sidebar": "Contents",
   "toc_cell": false,
   "toc_position": {
    "height": "calc(100% - 180px)",
    "left": "10px",
    "top": "150px",
    "width": "407.467px"
   },
   "toc_section_display": true,
   "toc_window_display": true
  }
 },
 "nbformat": 4,
 "nbformat_minor": 5
}
