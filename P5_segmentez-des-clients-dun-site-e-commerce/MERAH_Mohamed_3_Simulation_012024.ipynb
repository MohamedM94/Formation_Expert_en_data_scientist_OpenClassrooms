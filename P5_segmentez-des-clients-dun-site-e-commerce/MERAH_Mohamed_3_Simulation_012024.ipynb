{
 "cells": [
  {
   "cell_type": "markdown",
   "id": "2b176f7c",
   "metadata": {},
   "source": [
    "# **Partie 1**"
   ]
  },
  {
   "cell_type": "markdown",
   "id": "5ea4ea5b",
   "metadata": {},
   "source": [
    "# 1.1 Importations des librairies"
   ]
  },
  {
   "cell_type": "code",
   "execution_count": 1,
   "id": "5198f656",
   "metadata": {},
   "outputs": [],
   "source": [
    "#------------------------------------------\n",
    "# projet 5 : Segmentez des clients d’un site e-commerce\n",
    "# Auteur : Mohamed MERAH\n",
    "# Date: Janvier 2024\n",
    "# OpenClassrooms 2023-2024\n",
    "#-------------------------------------------\n",
    "\n",
    "import pandas as pd\n",
    "import numpy as np\n",
    "import seaborn as sns\n",
    "import zipfile\n",
    "from termcolor import colored\n",
    "import missingno\n",
    "import sklearn\n",
    "from sklearn.impute import KNNImputer\n",
    "import matplotlib.pyplot as plt\n",
    "from datetime import timedelta\n",
    "import datetime\n",
    "import datetime as dt\n",
    "from datetime import timedelta\n",
    "from datetime import datetime\n",
    "from sklearn.preprocessing import StandardScaler,MinMaxScaler\n",
    "from sklearn.cluster import KMeans \n",
    "from sklearn.metrics.cluster import adjusted_rand_score\n",
    "import sys\n",
    "if not sys.warnoptions:\n",
    "    import warnings\n",
    "    warnings.simplefilter(\"ignore\")"
   ]
  },
  {
   "cell_type": "markdown",
   "id": "1dbd03f1",
   "metadata": {},
   "source": [
    "# 1.2 Chargement du jeu de données"
   ]
  },
  {
   "cell_type": "code",
   "execution_count": 2,
   "id": "998d2641",
   "metadata": {},
   "outputs": [],
   "source": [
    "data_maint= pd.read_csv('C:/Users/misso/Desktop/Formation_DS_23_24_MERAH/2-Projet/5- Projet 5/1-Code/df_rfm_clients.csv').drop(\n",
    "    ['Unnamed: 0',],axis=1)"
   ]
  },
  {
   "cell_type": "markdown",
   "id": "0b845df3",
   "metadata": {},
   "source": [
    "# **Partie  2: Simulation**"
   ]
  },
  {
   "cell_type": "markdown",
   "id": "09ccfc21",
   "metadata": {},
   "source": [
    " - **Ce notebook sera dédié au contrat de maintenance. L'objectif est de faire une recommandation de fréquence à laquelle la segmentation doit être mise à jour pour rester pertinente, afin de pouvoir effectuer un devis de contrat de maintenance. Il s'agit de préciser une période de maintenance au bout de la quelle, l'algorithme doit être ré-étudié vu qu'il commence à perdre ses performances suite aux changements du jeu de données d'entrée.**\n",
    "\n"
   ]
  },
  {
   "cell_type": "markdown",
   "id": "14bb6a69",
   "metadata": {},
   "source": [
    "# 2.1  Etude de la stabilité temporelle de la segmentation par K-Means"
   ]
  },
  {
   "cell_type": "markdown",
   "id": "fa6274bc",
   "metadata": {},
   "source": [
    "\n",
    "**Contrat de maintenance**\n",
    "\n",
    "Notre modèle de segmentation choisi, il nous reste à faire une recommandation de fréquence à laquelle cette segmentation doit être mise à jour pour rester pertinente. Elle nous permettra d'établir un contrat de maintenance.\n",
    "\n",
    "Pour ce faire, nous allons nous baser sur l'Adjusted Rand Index (ARI) qui est l'une des métriques les plus utilisées pour valider les performances de clustering.\n",
    "\n",
    "L'ARI calcule une mesure de similarité entre deux clusters en considérant toutes les paires d'échantillons et en comptant les paires qui sont assignées dans les mêmes ou différents clusters dans les clusters prédits et réels.\n",
    "\n",
    "L'ARI doit être interprété comme suit :\n",
    "\n",
    "    ARI >= 0,90 excellente récupération\n",
    "    0,80 =< ARI < 0,90 bonne récupération\n",
    "    0,65 =< ARI < 0,80 récupération modérée\n",
    "    ARI < 0,65 mauvaise récupération\n",
    "\n",
    "    Lorsque l'ARI sera < 0.8, la segmentation devra être mise à jour et le modèle réentrainé\n",
    "\n"
   ]
  },
  {
   "cell_type": "markdown",
   "id": "3e5411cd",
   "metadata": {},
   "source": [
    "# 2.1 Étude de la stabilité des clusters sur les 6 derniers mois"
   ]
  },
  {
   "cell_type": "code",
   "execution_count": 3,
   "id": "bf5575a2",
   "metadata": {},
   "outputs": [
    {
     "data": {
      "text/plain": [
       "Index(['customer_unique_id', 'order_purchase_timestamp', 'Localisation',\n",
       "       'categorie_produit', 'Log_rfm_Frequency', 'Log_rfm_Monetry',\n",
       "       'Log_rfm_Recency', 'Log_Satisfaction_score', 'Log_Delai_de_livraison',\n",
       "       'Log_Nombre_Article'],\n",
       "      dtype='object')"
      ]
     },
     "execution_count": 3,
     "metadata": {},
     "output_type": "execute_result"
    }
   ],
   "source": [
    "data_maint.columns"
   ]
  },
  {
   "cell_type": "code",
   "execution_count": 4,
   "id": "c88e77ce",
   "metadata": {},
   "outputs": [],
   "source": [
    "data_maint = data_maint.drop([\"Localisation\"], axis=1)\n",
    "data_maint = data_maint.drop(['categorie_produit'], axis=1)"
   ]
  },
  {
   "cell_type": "code",
   "execution_count": 5,
   "id": "88d0c06a",
   "metadata": {},
   "outputs": [
    {
     "data": {
      "text/html": [
       "<div>\n",
       "<style scoped>\n",
       "    .dataframe tbody tr th:only-of-type {\n",
       "        vertical-align: middle;\n",
       "    }\n",
       "\n",
       "    .dataframe tbody tr th {\n",
       "        vertical-align: top;\n",
       "    }\n",
       "\n",
       "    .dataframe thead th {\n",
       "        text-align: right;\n",
       "    }\n",
       "</style>\n",
       "<table border=\"1\" class=\"dataframe\">\n",
       "  <thead>\n",
       "    <tr style=\"text-align: right;\">\n",
       "      <th></th>\n",
       "      <th>customer_unique_id</th>\n",
       "      <th>order_purchase_timestamp</th>\n",
       "      <th>Log_rfm_Frequency</th>\n",
       "      <th>Log_rfm_Monetry</th>\n",
       "      <th>Log_rfm_Recency</th>\n",
       "      <th>Log_Satisfaction_score</th>\n",
       "      <th>Log_Delai_de_livraison</th>\n",
       "      <th>Log_Nombre_Article</th>\n",
       "    </tr>\n",
       "  </thead>\n",
       "  <tbody>\n",
       "    <tr>\n",
       "      <th>0</th>\n",
       "      <td>0000366f3b9a7992bf8c76cfdf3221e2</td>\n",
       "      <td>2018-05-10 10:56:27</td>\n",
       "      <td>0.693147</td>\n",
       "      <td>4.962145</td>\n",
       "      <td>4.718499</td>\n",
       "      <td>1.791759</td>\n",
       "      <td>1.945910</td>\n",
       "      <td>0.693147</td>\n",
       "    </tr>\n",
       "    <tr>\n",
       "      <th>1</th>\n",
       "      <td>0000b849f77a49e4a4ce2b2a4ca5be3f</td>\n",
       "      <td>2018-05-07 11:11:27</td>\n",
       "      <td>0.693147</td>\n",
       "      <td>3.338967</td>\n",
       "      <td>4.744932</td>\n",
       "      <td>1.609438</td>\n",
       "      <td>1.386294</td>\n",
       "      <td>0.693147</td>\n",
       "    </tr>\n",
       "    <tr>\n",
       "      <th>2</th>\n",
       "      <td>0000f46a3911fa3c0805444483337064</td>\n",
       "      <td>2017-03-10 21:05:03</td>\n",
       "      <td>0.693147</td>\n",
       "      <td>4.468434</td>\n",
       "      <td>6.285998</td>\n",
       "      <td>1.386294</td>\n",
       "      <td>3.258097</td>\n",
       "      <td>0.693147</td>\n",
       "    </tr>\n",
       "    <tr>\n",
       "      <th>3</th>\n",
       "      <td>0000f6ccb0745a6a4b88665a16c9f078</td>\n",
       "      <td>2017-10-12 20:29:41</td>\n",
       "      <td>0.693147</td>\n",
       "      <td>3.798182</td>\n",
       "      <td>5.771441</td>\n",
       "      <td>1.609438</td>\n",
       "      <td>3.044522</td>\n",
       "      <td>0.693147</td>\n",
       "    </tr>\n",
       "    <tr>\n",
       "      <th>4</th>\n",
       "      <td>0004aac84e0df4da2b147fca70cf8255</td>\n",
       "      <td>2017-11-14 19:45:42</td>\n",
       "      <td>0.693147</td>\n",
       "      <td>5.287711</td>\n",
       "      <td>5.662960</td>\n",
       "      <td>1.791759</td>\n",
       "      <td>2.639057</td>\n",
       "      <td>0.693147</td>\n",
       "    </tr>\n",
       "    <tr>\n",
       "      <th>...</th>\n",
       "      <td>...</td>\n",
       "      <td>...</td>\n",
       "      <td>...</td>\n",
       "      <td>...</td>\n",
       "      <td>...</td>\n",
       "      <td>...</td>\n",
       "      <td>...</td>\n",
       "      <td>...</td>\n",
       "    </tr>\n",
       "    <tr>\n",
       "      <th>88882</th>\n",
       "      <td>fffb09418989a0dbff854a28163e47c6</td>\n",
       "      <td>2017-12-17 19:14:35</td>\n",
       "      <td>0.693147</td>\n",
       "      <td>4.306225</td>\n",
       "      <td>5.541264</td>\n",
       "      <td>1.791759</td>\n",
       "      <td>2.197225</td>\n",
       "      <td>0.693147</td>\n",
       "    </tr>\n",
       "    <tr>\n",
       "      <th>88883</th>\n",
       "      <td>fffea47cd6d3cc0a88bd621562a9d061</td>\n",
       "      <td>2017-12-10 20:07:56</td>\n",
       "      <td>0.693147</td>\n",
       "      <td>4.449452</td>\n",
       "      <td>5.568345</td>\n",
       "      <td>1.609438</td>\n",
       "      <td>3.433987</td>\n",
       "      <td>0.693147</td>\n",
       "    </tr>\n",
       "    <tr>\n",
       "      <th>88884</th>\n",
       "      <td>ffff371b4d645b6ecea244b27531430a</td>\n",
       "      <td>2017-02-07 15:49:16</td>\n",
       "      <td>0.693147</td>\n",
       "      <td>4.731450</td>\n",
       "      <td>6.342121</td>\n",
       "      <td>1.791759</td>\n",
       "      <td>2.708050</td>\n",
       "      <td>0.693147</td>\n",
       "    </tr>\n",
       "    <tr>\n",
       "      <th>88885</th>\n",
       "      <td>ffff5962728ec6157033ef9805bacc48</td>\n",
       "      <td>2018-05-02 15:17:41</td>\n",
       "      <td>0.693147</td>\n",
       "      <td>4.902976</td>\n",
       "      <td>4.779123</td>\n",
       "      <td>1.791759</td>\n",
       "      <td>2.484907</td>\n",
       "      <td>0.693147</td>\n",
       "    </tr>\n",
       "    <tr>\n",
       "      <th>88886</th>\n",
       "      <td>ffffd2657e2aad2907e67c3e9daecbeb</td>\n",
       "      <td>2017-05-02 20:18:45</td>\n",
       "      <td>0.693147</td>\n",
       "      <td>4.284414</td>\n",
       "      <td>6.182085</td>\n",
       "      <td>1.791759</td>\n",
       "      <td>2.079442</td>\n",
       "      <td>0.693147</td>\n",
       "    </tr>\n",
       "  </tbody>\n",
       "</table>\n",
       "<p>88887 rows × 8 columns</p>\n",
       "</div>"
      ],
      "text/plain": [
       "                     customer_unique_id order_purchase_timestamp  \\\n",
       "0      0000366f3b9a7992bf8c76cfdf3221e2      2018-05-10 10:56:27   \n",
       "1      0000b849f77a49e4a4ce2b2a4ca5be3f      2018-05-07 11:11:27   \n",
       "2      0000f46a3911fa3c0805444483337064      2017-03-10 21:05:03   \n",
       "3      0000f6ccb0745a6a4b88665a16c9f078      2017-10-12 20:29:41   \n",
       "4      0004aac84e0df4da2b147fca70cf8255      2017-11-14 19:45:42   \n",
       "...                                 ...                      ...   \n",
       "88882  fffb09418989a0dbff854a28163e47c6      2017-12-17 19:14:35   \n",
       "88883  fffea47cd6d3cc0a88bd621562a9d061      2017-12-10 20:07:56   \n",
       "88884  ffff371b4d645b6ecea244b27531430a      2017-02-07 15:49:16   \n",
       "88885  ffff5962728ec6157033ef9805bacc48      2018-05-02 15:17:41   \n",
       "88886  ffffd2657e2aad2907e67c3e9daecbeb      2017-05-02 20:18:45   \n",
       "\n",
       "       Log_rfm_Frequency  Log_rfm_Monetry  Log_rfm_Recency  \\\n",
       "0               0.693147         4.962145         4.718499   \n",
       "1               0.693147         3.338967         4.744932   \n",
       "2               0.693147         4.468434         6.285998   \n",
       "3               0.693147         3.798182         5.771441   \n",
       "4               0.693147         5.287711         5.662960   \n",
       "...                  ...              ...              ...   \n",
       "88882           0.693147         4.306225         5.541264   \n",
       "88883           0.693147         4.449452         5.568345   \n",
       "88884           0.693147         4.731450         6.342121   \n",
       "88885           0.693147         4.902976         4.779123   \n",
       "88886           0.693147         4.284414         6.182085   \n",
       "\n",
       "       Log_Satisfaction_score  Log_Delai_de_livraison  Log_Nombre_Article  \n",
       "0                    1.791759                1.945910            0.693147  \n",
       "1                    1.609438                1.386294            0.693147  \n",
       "2                    1.386294                3.258097            0.693147  \n",
       "3                    1.609438                3.044522            0.693147  \n",
       "4                    1.791759                2.639057            0.693147  \n",
       "...                       ...                     ...                 ...  \n",
       "88882                1.791759                2.197225            0.693147  \n",
       "88883                1.609438                3.433987            0.693147  \n",
       "88884                1.791759                2.708050            0.693147  \n",
       "88885                1.791759                2.484907            0.693147  \n",
       "88886                1.791759                2.079442            0.693147  \n",
       "\n",
       "[88887 rows x 8 columns]"
      ]
     },
     "execution_count": 5,
     "metadata": {},
     "output_type": "execute_result"
    }
   ],
   "source": [
    "data_maint"
   ]
  },
  {
   "cell_type": "code",
   "execution_count": 6,
   "id": "7ac48fdf",
   "metadata": {},
   "outputs": [],
   "source": [
    "# Nombre de données dupliquées \n",
    "def Nb_Data_Dupliq(data) :\n",
    "    return print(\"Nombre de données dupliquées :\",data.duplicated().sum())"
   ]
  },
  {
   "cell_type": "code",
   "execution_count": 7,
   "id": "483e459b",
   "metadata": {},
   "outputs": [],
   "source": [
    "#Nb_Data_Dupliq(data_maint)"
   ]
  },
  {
   "cell_type": "code",
   "execution_count": 8,
   "id": "ceb52f21",
   "metadata": {},
   "outputs": [],
   "source": [
    "# Suppression des doublons\n",
    "data_maint.drop_duplicates(subset=['customer_unique_id'],\n",
    "                    inplace=True)"
   ]
  },
  {
   "cell_type": "code",
   "execution_count": 9,
   "id": "4df36fc3",
   "metadata": {},
   "outputs": [
    {
     "data": {
      "text/plain": [
       "(86766, 8)"
      ]
     },
     "execution_count": 9,
     "metadata": {},
     "output_type": "execute_result"
    }
   ],
   "source": [
    "#Nombre Ligne et Colonne\n",
    "data_maint.shape"
   ]
  },
  {
   "cell_type": "code",
   "execution_count": 10,
   "id": "8988c65f",
   "metadata": {},
   "outputs": [],
   "source": [
    "data_maint['order_purchase_timestamp'] = data_maint[\n",
    "    'order_purchase_timestamp'].apply(\n",
    "     lambda x: datetime.strptime(x, \"%Y-%m-%d %H:%M:%S\"))"
   ]
  },
  {
   "cell_type": "code",
   "execution_count": 11,
   "id": "ad74fbca",
   "metadata": {},
   "outputs": [],
   "source": [
    "data_maint = data_maint.set_index('customer_unique_id')"
   ]
  },
  {
   "cell_type": "code",
   "execution_count": 12,
   "id": "222bbc2b",
   "metadata": {},
   "outputs": [],
   "source": [
    "colonnes = data_maint.columns.to_list()\n",
    "colonnes.remove('order_purchase_timestamp')"
   ]
  },
  {
   "cell_type": "code",
   "execution_count": 13,
   "id": "e9755dfb",
   "metadata": {},
   "outputs": [],
   "source": [
    "#Date Debut & Date Fin\n",
    "debut_periode, fin_periode = data_maint['order_purchase_timestamp'].min(),\\\n",
    "                             data_maint['order_purchase_timestamp'].max()"
   ]
  },
  {
   "cell_type": "code",
   "execution_count": 14,
   "id": "a679f7a0",
   "metadata": {},
   "outputs": [
    {
     "data": {
      "text/plain": [
       "(Timestamp('2016-10-05 12:32:55'), Timestamp('2018-08-21 14:57:19'))"
      ]
     },
     "execution_count": 14,
     "metadata": {},
     "output_type": "execute_result"
    }
   ],
   "source": [
    "debut_periode, fin_periode"
   ]
  },
  {
   "cell_type": "code",
   "execution_count": 15,
   "id": "3c2b5b1a",
   "metadata": {},
   "outputs": [],
   "source": [
    "date_T0_sem = pd.date_range(debut_periode, fin_periode, freq=\"w\")[70]\n",
    "date_T0_TN_sem = pd.date_range(debut_periode, fin_periode, freq=\"w\")[71:]"
   ]
  },
  {
   "cell_type": "markdown",
   "id": "bbf920b7",
   "metadata": {},
   "source": [
    " **On va étudier la stabilité des clusters sur les 5 derniers mois**"
   ]
  },
  {
   "cell_type": "code",
   "execution_count": 16,
   "id": "abd7a361",
   "metadata": {},
   "outputs": [
    {
     "data": {
      "text/plain": [
       "Timestamp('2018-02-11 12:32:55')"
      ]
     },
     "execution_count": 16,
     "metadata": {},
     "output_type": "execute_result"
    }
   ],
   "source": [
    "date_T0_sem"
   ]
  },
  {
   "cell_type": "code",
   "execution_count": 17,
   "id": "08b0c309",
   "metadata": {},
   "outputs": [
    {
     "data": {
      "text/plain": [
       "DatetimeIndex(['2018-02-18 12:32:55', '2018-02-25 12:32:55',\n",
       "               '2018-03-04 12:32:55', '2018-03-11 12:32:55',\n",
       "               '2018-03-18 12:32:55', '2018-03-25 12:32:55',\n",
       "               '2018-04-01 12:32:55', '2018-04-08 12:32:55',\n",
       "               '2018-04-15 12:32:55', '2018-04-22 12:32:55',\n",
       "               '2018-04-29 12:32:55', '2018-05-06 12:32:55',\n",
       "               '2018-05-13 12:32:55', '2018-05-20 12:32:55',\n",
       "               '2018-05-27 12:32:55', '2018-06-03 12:32:55',\n",
       "               '2018-06-10 12:32:55', '2018-06-17 12:32:55',\n",
       "               '2018-06-24 12:32:55', '2018-07-01 12:32:55',\n",
       "               '2018-07-08 12:32:55', '2018-07-15 12:32:55',\n",
       "               '2018-07-22 12:32:55', '2018-07-29 12:32:55',\n",
       "               '2018-08-05 12:32:55', '2018-08-12 12:32:55',\n",
       "               '2018-08-19 12:32:55'],\n",
       "              dtype='datetime64[ns]', freq='W-SUN')"
      ]
     },
     "execution_count": 17,
     "metadata": {},
     "output_type": "execute_result"
    }
   ],
   "source": [
    "date_T0_TN_sem"
   ]
  },
  {
   "cell_type": "code",
   "execution_count": 18,
   "id": "fe060b0f",
   "metadata": {},
   "outputs": [],
   "source": [
    "data_F0 = data_maint[(data_maint['order_purchase_timestamp'] < date_T0_sem)]\n",
    "data_F0 = data_F0[colonnes].copy()"
   ]
  },
  {
   "cell_type": "code",
   "execution_count": 19,
   "id": "61b1e0a3",
   "metadata": {},
   "outputs": [
    {
     "data": {
      "text/html": [
       "<style>#sk-container-id-1 {color: black;}#sk-container-id-1 pre{padding: 0;}#sk-container-id-1 div.sk-toggleable {background-color: white;}#sk-container-id-1 label.sk-toggleable__label {cursor: pointer;display: block;width: 100%;margin-bottom: 0;padding: 0.3em;box-sizing: border-box;text-align: center;}#sk-container-id-1 label.sk-toggleable__label-arrow:before {content: \"▸\";float: left;margin-right: 0.25em;color: #696969;}#sk-container-id-1 label.sk-toggleable__label-arrow:hover:before {color: black;}#sk-container-id-1 div.sk-estimator:hover label.sk-toggleable__label-arrow:before {color: black;}#sk-container-id-1 div.sk-toggleable__content {max-height: 0;max-width: 0;overflow: hidden;text-align: left;background-color: #f0f8ff;}#sk-container-id-1 div.sk-toggleable__content pre {margin: 0.2em;color: black;border-radius: 0.25em;background-color: #f0f8ff;}#sk-container-id-1 input.sk-toggleable__control:checked~div.sk-toggleable__content {max-height: 200px;max-width: 100%;overflow: auto;}#sk-container-id-1 input.sk-toggleable__control:checked~label.sk-toggleable__label-arrow:before {content: \"▾\";}#sk-container-id-1 div.sk-estimator input.sk-toggleable__control:checked~label.sk-toggleable__label {background-color: #d4ebff;}#sk-container-id-1 div.sk-label input.sk-toggleable__control:checked~label.sk-toggleable__label {background-color: #d4ebff;}#sk-container-id-1 input.sk-hidden--visually {border: 0;clip: rect(1px 1px 1px 1px);clip: rect(1px, 1px, 1px, 1px);height: 1px;margin: -1px;overflow: hidden;padding: 0;position: absolute;width: 1px;}#sk-container-id-1 div.sk-estimator {font-family: monospace;background-color: #f0f8ff;border: 1px dotted black;border-radius: 0.25em;box-sizing: border-box;margin-bottom: 0.5em;}#sk-container-id-1 div.sk-estimator:hover {background-color: #d4ebff;}#sk-container-id-1 div.sk-parallel-item::after {content: \"\";width: 100%;border-bottom: 1px solid gray;flex-grow: 1;}#sk-container-id-1 div.sk-label:hover label.sk-toggleable__label {background-color: #d4ebff;}#sk-container-id-1 div.sk-serial::before {content: \"\";position: absolute;border-left: 1px solid gray;box-sizing: border-box;top: 0;bottom: 0;left: 50%;z-index: 0;}#sk-container-id-1 div.sk-serial {display: flex;flex-direction: column;align-items: center;background-color: white;padding-right: 0.2em;padding-left: 0.2em;position: relative;}#sk-container-id-1 div.sk-item {position: relative;z-index: 1;}#sk-container-id-1 div.sk-parallel {display: flex;align-items: stretch;justify-content: center;background-color: white;position: relative;}#sk-container-id-1 div.sk-item::before, #sk-container-id-1 div.sk-parallel-item::before {content: \"\";position: absolute;border-left: 1px solid gray;box-sizing: border-box;top: 0;bottom: 0;left: 50%;z-index: -1;}#sk-container-id-1 div.sk-parallel-item {display: flex;flex-direction: column;z-index: 1;position: relative;background-color: white;}#sk-container-id-1 div.sk-parallel-item:first-child::after {align-self: flex-end;width: 50%;}#sk-container-id-1 div.sk-parallel-item:last-child::after {align-self: flex-start;width: 50%;}#sk-container-id-1 div.sk-parallel-item:only-child::after {width: 0;}#sk-container-id-1 div.sk-dashed-wrapped {border: 1px dashed gray;margin: 0 0.4em 0.5em 0.4em;box-sizing: border-box;padding-bottom: 0.4em;background-color: white;}#sk-container-id-1 div.sk-label label {font-family: monospace;font-weight: bold;display: inline-block;line-height: 1.2em;}#sk-container-id-1 div.sk-label-container {text-align: center;}#sk-container-id-1 div.sk-container {/* jupyter's `normalize.less` sets `[hidden] { display: none; }` but bootstrap.min.css set `[hidden] { display: none !important; }` so we also need the `!important` here to be able to override the default hidden behavior on the sphinx rendered scikit-learn.org. See: https://github.com/scikit-learn/scikit-learn/issues/21755 */display: inline-block !important;position: relative;}#sk-container-id-1 div.sk-text-repr-fallback {display: none;}</style><div id=\"sk-container-id-1\" class=\"sk-top-container\"><div class=\"sk-text-repr-fallback\"><pre>KMeans(max_iter=200, n_clusters=5, random_state=42)</pre><b>In a Jupyter environment, please rerun this cell to show the HTML representation or trust the notebook. <br />On GitHub, the HTML representation is unable to render, please try loading this page with nbviewer.org.</b></div><div class=\"sk-container\" hidden><div class=\"sk-item\"><div class=\"sk-estimator sk-toggleable\"><input class=\"sk-toggleable__control sk-hidden--visually\" id=\"sk-estimator-id-1\" type=\"checkbox\" checked><label for=\"sk-estimator-id-1\" class=\"sk-toggleable__label sk-toggleable__label-arrow\">KMeans</label><div class=\"sk-toggleable__content\"><pre>KMeans(max_iter=200, n_clusters=5, random_state=42)</pre></div></div></div></div></div>"
      ],
      "text/plain": [
       "KMeans(max_iter=200, n_clusters=5, random_state=42)"
      ]
     },
     "execution_count": 19,
     "metadata": {},
     "output_type": "execute_result"
    }
   ],
   "source": [
    "model_M0 = KMeans(n_clusters=5, init='k-means++',\n",
    "                  max_iter=200, random_state=42)\n",
    "scaler_T0 = StandardScaler()\n",
    "data_F0 = scaler_T0.fit_transform(data_F0)\n",
    "model_M0.fit(data_F0)"
   ]
  },
  {
   "cell_type": "code",
   "execution_count": 20,
   "id": "1c5612cf",
   "metadata": {},
   "outputs": [
    {
     "name": "stdout",
     "output_type": "stream",
     "text": [
      "nombre de client : 48744 pour la date : 2018-02-18 12:32:55  ( T 1 )\n",
      "nombre de client : 50247 pour la date : 2018-02-25 12:32:55  ( T 2 )\n",
      "nombre de client : 51851 pour la date : 2018-03-04 12:32:55  ( T 3 )\n",
      "nombre de client : 53294 pour la date : 2018-03-11 12:32:55  ( T 4 )\n",
      "nombre de client : 54700 pour la date : 2018-03-18 12:32:55  ( T 5 )\n",
      "nombre de client : 56245 pour la date : 2018-03-25 12:32:55  ( T 6 )\n",
      "nombre de client : 57538 pour la date : 2018-04-01 12:32:55  ( T 7 )\n",
      "nombre de client : 58975 pour la date : 2018-04-08 12:32:55  ( T 8 )\n",
      "nombre de client : 60327 pour la date : 2018-04-15 12:32:55  ( T 9 )\n",
      "nombre de client : 61869 pour la date : 2018-04-22 12:32:55  ( T 10 )\n",
      "nombre de client : 63432 pour la date : 2018-04-29 12:32:55  ( T 11 )\n",
      "nombre de client : 65024 pour la date : 2018-05-06 12:32:55  ( T 12 )\n",
      "nombre de client : 66824 pour la date : 2018-05-13 12:32:55  ( T 13 )\n",
      "nombre de client : 68546 pour la date : 2018-05-20 12:32:55  ( T 14 )\n",
      "nombre de client : 69455 pour la date : 2018-05-27 12:32:55  ( T 15 )\n",
      "nombre de client : 70397 pour la date : 2018-06-03 12:32:55  ( T 16 )\n",
      "nombre de client : 71710 pour la date : 2018-06-10 12:32:55  ( T 17 )\n",
      "nombre de client : 73152 pour la date : 2018-06-17 12:32:55  ( T 18 )\n",
      "nombre de client : 74444 pour la date : 2018-06-24 12:32:55  ( T 19 )\n",
      "nombre de client : 75778 pour la date : 2018-07-01 12:32:55  ( T 20 )\n",
      "nombre de client : 76926 pour la date : 2018-07-08 12:32:55  ( T 21 )\n",
      "nombre de client : 77812 pour la date : 2018-07-15 12:32:55  ( T 22 )\n",
      "nombre de client : 79305 pour la date : 2018-07-22 12:32:55  ( T 23 )\n",
      "nombre de client : 80822 pour la date : 2018-07-29 12:32:55  ( T 24 )\n",
      "nombre de client : 82655 pour la date : 2018-08-05 12:32:55  ( T 25 )\n",
      "nombre de client : 84549 pour la date : 2018-08-12 12:32:55  ( T 26 )\n",
      "nombre de client : 86273 pour la date : 2018-08-19 12:32:55  ( T 27 )\n"
     ]
    }
   ],
   "source": [
    "ARI_score_sem = []\n",
    "sem = 0\n",
    "for date_TI in date_T0_TN_sem:\n",
    "    data_TI = data_maint[(data_maint['order_purchase_timestamp'] < date_TI)]\n",
    "    data_TI = data_TI[colonnes].copy()\n",
    "    sem += 1\n",
    "    print('nombre de client :', len(data_TI), 'pour la date :',\n",
    "          date_TI, ' ( T', sem, ')')\n",
    "    scaler_TI = StandardScaler()\n",
    "    data_TI_scaled = scaler_TI.fit_transform(data_TI)\n",
    "    model_MI = KMeans(n_clusters=5, init='k-means++',\n",
    "                      max_iter=200, random_state=42)\n",
    "    model_MI.fit(data_TI_scaled)\n",
    "    ARI_score_sem.append(\n",
    "        adjusted_rand_score(\n",
    "            model_MI.predict(data_TI_scaled),\n",
    "            model_M0.predict(scaler_T0.transform(data_TI))\n",
    "        )\n",
    "    )"
   ]
  },
  {
   "cell_type": "code",
   "execution_count": 21,
   "id": "59cff6ee",
   "metadata": {},
   "outputs": [
    {
     "data": {
      "image/png": "[encoded data removed]",
      "text/plain": [
       "<Figure size 1500x700 with 1 Axes>"
      ]
     },
     "metadata": {},
     "output_type": "display_data"
    }
   ],
   "source": [
    "df_ARI = pd.DataFrame({\"Semaine\": range(0, len(ARI_score_sem)),\n",
    "                      \"Score_ARI\": ARI_score_sem})\n",
    "plt.figure(figsize=(15, 7))\n",
    "\n",
    "# Drawing ARI Score\n",
    "plt.plot(\n",
    "    \"Semaine\",\n",
    "    \"Score_ARI\",\n",
    "    data=df_ARI,\n",
    "    linestyle=\"-\",\n",
    "    marker=\"o\",\n",
    "    label=\"Score ARI\",\n",
    ")\n",
    "\n",
    "# Drawing a horizontal line at point seuil\n",
    "plt.axhline(\n",
    "    y=0.8,\n",
    "    linestyle=\"--\",\n",
    "    color=\"black\",\n",
    "    label=\"ARI=0.8\",)\n",
    "\n",
    "# Drawing a vertical line at the intersection\n",
    "plt.axvline(x=5.5, linestyle=\"--\", \n",
    "            color=\"green\",\n",
    "            ymax=1.48,\n",
    "            linewidth=2)\n",
    "\n",
    "plt.grid()\n",
    "plt.xlim(1, len(ARI_score_sem))\n",
    "plt.xlabel(\"Semaines \")\n",
    "plt.ylabel(\"Score ARI\")\n",
    "plt.legend()\n",
    "plt.title(\"Score ARI en fonction des semaines \")\n",
    "plt.show()"
   ]
  },
  {
   "cell_type": "markdown",
   "id": "b69e1890",
   "metadata": {},
   "source": [
    " - **Au bout de 5 semaines et demi, le score ARI est inférieur à 0.8. Il faut faire une mise à jour des clients tous les 5 semaines et demi (38 jours)**"
   ]
  },
  {
   "cell_type": "markdown",
   "id": "ee7c72e1",
   "metadata": {},
   "source": [
    "# 2.2 Étude de la stabilité des clusters sur les 12 derniers mois"
   ]
  },
  {
   "cell_type": "code",
   "execution_count": 22,
   "id": "2b7743d5",
   "metadata": {},
   "outputs": [],
   "source": [
    "date_T0_mois = pd.date_range(debut_periode, fin_periode, freq=\"M\")[8]\n",
    "date_T0_TN_mois = pd.date_range(debut_periode, fin_periode, freq=\"M\")[9:]"
   ]
  },
  {
   "cell_type": "code",
   "execution_count": 23,
   "id": "f349a86f",
   "metadata": {},
   "outputs": [
    {
     "data": {
      "text/plain": [
       "Timestamp('2017-06-30 12:32:55')"
      ]
     },
     "execution_count": 23,
     "metadata": {},
     "output_type": "execute_result"
    }
   ],
   "source": [
    "date_T0_mois"
   ]
  },
  {
   "cell_type": "code",
   "execution_count": 24,
   "id": "b18f21d0",
   "metadata": {},
   "outputs": [
    {
     "data": {
      "text/plain": [
       "DatetimeIndex(['2017-07-31 12:32:55', '2017-08-31 12:32:55',\n",
       "               '2017-09-30 12:32:55', '2017-10-31 12:32:55',\n",
       "               '2017-11-30 12:32:55', '2017-12-31 12:32:55',\n",
       "               '2018-01-31 12:32:55', '2018-02-28 12:32:55',\n",
       "               '2018-03-31 12:32:55', '2018-04-30 12:32:55',\n",
       "               '2018-05-31 12:32:55', '2018-06-30 12:32:55',\n",
       "               '2018-07-31 12:32:55'],\n",
       "              dtype='datetime64[ns]', freq='M')"
      ]
     },
     "execution_count": 24,
     "metadata": {},
     "output_type": "execute_result"
    }
   ],
   "source": [
    "date_T0_TN_mois"
   ]
  },
  {
   "cell_type": "code",
   "execution_count": 25,
   "id": "2ebd1607",
   "metadata": {},
   "outputs": [],
   "source": [
    "data_F0_mois = data_maint[(data_maint['order_purchase_timestamp']\n",
    "                           < date_T0_mois)]\n",
    "data_F0_mois = data_F0_mois[colonnes].copy()"
   ]
  },
  {
   "cell_type": "code",
   "execution_count": 26,
   "id": "6e267a46",
   "metadata": {},
   "outputs": [
    {
     "data": {
      "text/html": [
       "<style>#sk-container-id-2 {color: black;}#sk-container-id-2 pre{padding: 0;}#sk-container-id-2 div.sk-toggleable {background-color: white;}#sk-container-id-2 label.sk-toggleable__label {cursor: pointer;display: block;width: 100%;margin-bottom: 0;padding: 0.3em;box-sizing: border-box;text-align: center;}#sk-container-id-2 label.sk-toggleable__label-arrow:before {content: \"▸\";float: left;margin-right: 0.25em;color: #696969;}#sk-container-id-2 label.sk-toggleable__label-arrow:hover:before {color: black;}#sk-container-id-2 div.sk-estimator:hover label.sk-toggleable__label-arrow:before {color: black;}#sk-container-id-2 div.sk-toggleable__content {max-height: 0;max-width: 0;overflow: hidden;text-align: left;background-color: #f0f8ff;}#sk-container-id-2 div.sk-toggleable__content pre {margin: 0.2em;color: black;border-radius: 0.25em;background-color: #f0f8ff;}#sk-container-id-2 input.sk-toggleable__control:checked~div.sk-toggleable__content {max-height: 200px;max-width: 100%;overflow: auto;}#sk-container-id-2 input.sk-toggleable__control:checked~label.sk-toggleable__label-arrow:before {content: \"▾\";}#sk-container-id-2 div.sk-estimator input.sk-toggleable__control:checked~label.sk-toggleable__label {background-color: #d4ebff;}#sk-container-id-2 div.sk-label input.sk-toggleable__control:checked~label.sk-toggleable__label {background-color: #d4ebff;}#sk-container-id-2 input.sk-hidden--visually {border: 0;clip: rect(1px 1px 1px 1px);clip: rect(1px, 1px, 1px, 1px);height: 1px;margin: -1px;overflow: hidden;padding: 0;position: absolute;width: 1px;}#sk-container-id-2 div.sk-estimator {font-family: monospace;background-color: #f0f8ff;border: 1px dotted black;border-radius: 0.25em;box-sizing: border-box;margin-bottom: 0.5em;}#sk-container-id-2 div.sk-estimator:hover {background-color: #d4ebff;}#sk-container-id-2 div.sk-parallel-item::after {content: \"\";width: 100%;border-bottom: 1px solid gray;flex-grow: 1;}#sk-container-id-2 div.sk-label:hover label.sk-toggleable__label {background-color: #d4ebff;}#sk-container-id-2 div.sk-serial::before {content: \"\";position: absolute;border-left: 1px solid gray;box-sizing: border-box;top: 0;bottom: 0;left: 50%;z-index: 0;}#sk-container-id-2 div.sk-serial {display: flex;flex-direction: column;align-items: center;background-color: white;padding-right: 0.2em;padding-left: 0.2em;position: relative;}#sk-container-id-2 div.sk-item {position: relative;z-index: 1;}#sk-container-id-2 div.sk-parallel {display: flex;align-items: stretch;justify-content: center;background-color: white;position: relative;}#sk-container-id-2 div.sk-item::before, #sk-container-id-2 div.sk-parallel-item::before {content: \"\";position: absolute;border-left: 1px solid gray;box-sizing: border-box;top: 0;bottom: 0;left: 50%;z-index: -1;}#sk-container-id-2 div.sk-parallel-item {display: flex;flex-direction: column;z-index: 1;position: relative;background-color: white;}#sk-container-id-2 div.sk-parallel-item:first-child::after {align-self: flex-end;width: 50%;}#sk-container-id-2 div.sk-parallel-item:last-child::after {align-self: flex-start;width: 50%;}#sk-container-id-2 div.sk-parallel-item:only-child::after {width: 0;}#sk-container-id-2 div.sk-dashed-wrapped {border: 1px dashed gray;margin: 0 0.4em 0.5em 0.4em;box-sizing: border-box;padding-bottom: 0.4em;background-color: white;}#sk-container-id-2 div.sk-label label {font-family: monospace;font-weight: bold;display: inline-block;line-height: 1.2em;}#sk-container-id-2 div.sk-label-container {text-align: center;}#sk-container-id-2 div.sk-container {/* jupyter's `normalize.less` sets `[hidden] { display: none; }` but bootstrap.min.css set `[hidden] { display: none !important; }` so we also need the `!important` here to be able to override the default hidden behavior on the sphinx rendered scikit-learn.org. See: https://github.com/scikit-learn/scikit-learn/issues/21755 */display: inline-block !important;position: relative;}#sk-container-id-2 div.sk-text-repr-fallback {display: none;}</style><div id=\"sk-container-id-2\" class=\"sk-top-container\"><div class=\"sk-text-repr-fallback\"><pre>KMeans(n_clusters=5, random_state=42)</pre><b>In a Jupyter environment, please rerun this cell to show the HTML representation or trust the notebook. <br />On GitHub, the HTML representation is unable to render, please try loading this page with nbviewer.org.</b></div><div class=\"sk-container\" hidden><div class=\"sk-item\"><div class=\"sk-estimator sk-toggleable\"><input class=\"sk-toggleable__control sk-hidden--visually\" id=\"sk-estimator-id-2\" type=\"checkbox\" checked><label for=\"sk-estimator-id-2\" class=\"sk-toggleable__label sk-toggleable__label-arrow\">KMeans</label><div class=\"sk-toggleable__content\"><pre>KMeans(n_clusters=5, random_state=42)</pre></div></div></div></div></div>"
      ],
      "text/plain": [
       "KMeans(n_clusters=5, random_state=42)"
      ]
     },
     "execution_count": 26,
     "metadata": {},
     "output_type": "execute_result"
    }
   ],
   "source": [
    "model_M0 = KMeans(n_clusters=5, init='k-means++',\n",
    "                  max_iter=300, random_state=42)\n",
    "scaler_T0 = StandardScaler()\n",
    "data_F0_mois = scaler_T0.fit_transform(data_F0_mois)\n",
    "model_M0.fit(data_F0_mois)"
   ]
  },
  {
   "cell_type": "code",
   "execution_count": 27,
   "id": "3ea80949",
   "metadata": {},
   "outputs": [
    {
     "name": "stdout",
     "output_type": "stream",
     "text": [
      "nombre de client : 15443 pour la date : 2017-07-31 12:32:55  ( T 1 )\n",
      "nombre de client : 19296 pour la date : 2017-08-31 12:32:55  ( T 2 )\n",
      "nombre de client : 23115 pour la date : 2017-09-30 12:32:55  ( T 3 )\n",
      "nombre de client : 27213 pour la date : 2017-10-31 12:32:55  ( T 4 )\n",
      "nombre de client : 33776 pour la date : 2017-11-30 12:32:55  ( T 5 )\n",
      "nombre de client : 38911 pour la date : 2017-12-31 12:32:55  ( T 6 )\n",
      "nombre de client : 45162 pour la date : 2018-01-31 12:32:55  ( T 7 )\n",
      "nombre de client : 50969 pour la date : 2018-02-28 12:32:55  ( T 8 )\n",
      "nombre de client : 57394 pour la date : 2018-03-31 12:32:55  ( T 9 )\n",
      "nombre de client : 63635 pour la date : 2018-04-30 12:32:55  ( T 10 )\n",
      "nombre de client : 69956 pour la date : 2018-05-31 12:32:55  ( T 11 )\n",
      "nombre de client : 75663 pour la date : 2018-06-30 12:32:55  ( T 12 )\n",
      "nombre de client : 81285 pour la date : 2018-07-31 12:32:55  ( T 13 )\n"
     ]
    }
   ],
   "source": [
    "ARI_score_mois = []\n",
    "mois = 0\n",
    "for date_TI in date_T0_TN_mois:\n",
    "    data_TI = data_maint[(data_maint['order_purchase_timestamp'] < date_TI)]\n",
    "    data_TI = data_TI[colonnes].copy()\n",
    "    mois += 1\n",
    "    print('nombre de client :', len(data_TI), 'pour la date :',\n",
    "          date_TI, ' ( T', mois, ')')\n",
    "    scaler_TI = StandardScaler()\n",
    "    data_TI_scaled = scaler_TI.fit_transform(data_TI)\n",
    "    model_MI = KMeans(n_clusters=5, init='k-means++',\n",
    "                      max_iter=300, random_state=42)\n",
    "    model_MI.fit(data_TI_scaled)\n",
    "    ARI_score_mois.append(\n",
    "        adjusted_rand_score(\n",
    "            model_MI.predict(data_TI_scaled),\n",
    "            model_M0.predict(scaler_T0.transform(data_TI))\n",
    "        )\n",
    "    )"
   ]
  },
  {
   "cell_type": "code",
   "execution_count": 28,
   "id": "41af8fae",
   "metadata": {},
   "outputs": [
    {
     "data": {
      "image/png": "[encoded data removed]",
      "text/plain": [
       "<Figure size 1500x700 with 1 Axes>"
      ]
     },
     "metadata": {},
     "output_type": "display_data"
    }
   ],
   "source": [
    "df_ARI_mois = pd.DataFrame({\"Mois\": range(0, len(ARI_score_mois)),\n",
    "                           \"Score_ARI\": ARI_score_mois})\n",
    "plt.figure(figsize=(15, 7))\n",
    "plt.plot(\n",
    "    \"Mois\",\n",
    "    \"Score_ARI\",\n",
    "    data=df_ARI_mois,\n",
    "    linestyle=\"-\",\n",
    "    marker=\"o\",\n",
    "    label=\"Score ARI\",\n",
    ")\n",
    "plt.axhline(\n",
    "    y=0.8,\n",
    "    linestyle=\"--\",\n",
    "    color=\"black\",\n",
    "    label=\"ARI=0.8\")\n",
    "    \n",
    "plt.axvline(x=4, linestyle=\"--\", \n",
    "            color=\"green\",\n",
    "            ymax=1.48,\n",
    "            linewidth=2)\n",
    "\n",
    "plt.grid()\n",
    "plt.xlim(1, len(ARI_score_mois))\n",
    "plt.xlabel(\"Mois \")\n",
    "plt.ylabel(\"Score ARI\")\n",
    "plt.legend()\n",
    "plt.title(\"Score ARI en fonction des mois \")\n",
    "plt.show()"
   ]
  },
  {
   "cell_type": "markdown",
   "id": "99574991",
   "metadata": {},
   "source": [
    " - **Au bout de 4 mois , le score ARI est inférieur à 0.8. Il faut faire une mise à jour des clients tous les 4 mois**"
   ]
  },
  {
   "cell_type": "markdown",
   "id": "545ebde4",
   "metadata": {},
   "source": [
    "- **Le modèle devra être réentrainé tous les 4 mois. Nous pouvons donc établir un devis pour un contrat de maintenance qui intégrerait une mise à jour de la segmentation tous les 4 mois**"
   ]
  },
  {
   "cell_type": "code",
   "execution_count": null,
   "id": "48a3ca48",
   "metadata": {},
   "outputs": [],
   "source": []
  }
 ],
 "metadata": {
  "kernelspec": {
   "display_name": "venvPr5kernel",
   "language": "python",
   "name": "venvpr5kernel1"
  },
  "language_info": {
   "codemirror_mode": {
    "name": "ipython",
    "version": 3
   },
   "file_extension": ".py",
   "mimetype": "text/x-python",
   "name": "python",
   "nbconvert_exporter": "python",
   "pygments_lexer": "ipython3",
   "version": "3.11.4"
  },
  "toc": {
   "base_numbering": 1,
   "nav_menu": {},
   "number_sections": true,
   "sideBar": true,
   "skip_h1_title": false,
   "title_cell": "Table of Contents",
   "title_sidebar": "Contents",
   "toc_cell": false,
   "toc_position": {
    "height": "calc(100% - 180px)",
    "left": "10px",
    "top": "150px",
    "width": "407.467px"
   },
   "toc_section_display": true,
   "toc_window_display": true
  }
 },
 "nbformat": 4,
 "nbformat_minor": 5
}
